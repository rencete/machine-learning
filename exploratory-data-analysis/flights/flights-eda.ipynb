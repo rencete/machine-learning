{
  "nbformat": 4,
  "nbformat_minor": 0,
  "metadata": {
    "colab": {
      "name": "AIDI_1002_Lab1.ipynb",
      "provenance": [],
      "collapsed_sections": []
    },
    "kernelspec": {
      "display_name": "Python 3 (ipykernel)",
      "language": "python",
      "name": "python3"
    },
    "language_info": {
      "codemirror_mode": {
        "name": "ipython",
        "version": 3
      },
      "file_extension": ".py",
      "mimetype": "text/x-python",
      "name": "python",
      "nbconvert_exporter": "python",
      "pygments_lexer": "ipython3",
      "version": "3.9.6"
    }
  },
  "cells": [
    {
      "cell_type": "code",
      "metadata": {
        "id": "KLBMFzxKYenK"
      },
      "source": [
        "# Load modules\n",
        "import pandas as pd\n",
        "import numpy as np\n",
        "import matplotlib.pyplot as plt\n",
        "from matplotlib import colors\n",
        "from matplotlib import cm"
      ],
      "execution_count": 1,
      "outputs": []
    },
    {
      "cell_type": "markdown",
      "metadata": {
        "id": "-ejrP2pmzbqN"
      },
      "source": [
        "# Task 1: \n",
        "Create a Jupyter Notebook to present your analysis and perform an exploratory data analysis (EDA) on flights.csv file."
      ]
    },
    {
      "cell_type": "code",
      "metadata": {
        "colab": {
          "base_uri": "https://localhost:8080/"
        },
        "id": "42bmsw97zOa7",
        "outputId": "1813bd5e-af0f-458b-af0e-24a05498f8f6"
      },
      "source": [
        "# Read file\n",
        "all_flight_details = pd.read_csv('flights.csv')\n",
        "\n",
        "# Get counts of rows and columns\n",
        "print(all_flight_details.shape)"
      ],
      "execution_count": 2,
      "outputs": [
        {
          "output_type": "stream",
          "name": "stdout",
          "text": [
            "(336776, 19)\n"
          ]
        }
      ]
    },
    {
      "cell_type": "code",
      "metadata": {
        "colab": {
          "base_uri": "https://localhost:8080/"
        },
        "id": "-dGAnx6kGWwG",
        "outputId": "f24fb063-ccb5-4ccc-d93f-22646d776c3f"
      },
      "source": [
        "# Get information about the contents of columns\n",
        "print(all_flight_details.info())"
      ],
      "execution_count": 3,
      "outputs": [
        {
          "output_type": "stream",
          "name": "stdout",
          "text": [
            "<class 'pandas.core.frame.DataFrame'>\n",
            "RangeIndex: 336776 entries, 0 to 336775\n",
            "Data columns (total 19 columns):\n",
            " #   Column          Non-Null Count   Dtype  \n",
            "---  ------          --------------   -----  \n",
            " 0   year            336776 non-null  int64  \n",
            " 1   month           336776 non-null  int64  \n",
            " 2   day             336776 non-null  int64  \n",
            " 3   dep_time        328521 non-null  float64\n",
            " 4   sched_dep_time  336776 non-null  int64  \n",
            " 5   dep_delay       328521 non-null  float64\n",
            " 6   arr_time        328063 non-null  float64\n",
            " 7   sched_arr_time  336776 non-null  int64  \n",
            " 8   arr_delay       327346 non-null  float64\n",
            " 9   carrier         336776 non-null  object \n",
            " 10  flight          336776 non-null  int64  \n",
            " 11  tailnum         334264 non-null  object \n",
            " 12  origin          336776 non-null  object \n",
            " 13  dest            336776 non-null  object \n",
            " 14  air_time        327346 non-null  float64\n",
            " 15  distance        336776 non-null  int64  \n",
            " 16  hour            336776 non-null  int64  \n",
            " 17  minute          336776 non-null  int64  \n",
            " 18  time_hour       336776 non-null  object \n",
            "dtypes: float64(5), int64(9), object(5)\n",
            "memory usage: 48.8+ MB\n",
            "None\n"
          ]
        }
      ]
    },
    {
      "cell_type": "code",
      "metadata": {
        "colab": {
          "base_uri": "https://localhost:8080/"
        },
        "id": "DfjqvH8FKNrt",
        "outputId": "4aed51f7-7273-4123-867a-c1e2af9bf081"
      },
      "source": [
        "# Convert column 18 \"time_hour\" to datetime\n",
        "all_flight_details['time_hour'] = pd.to_datetime(all_flight_details['time_hour'])\n",
        "print(all_flight_details.info())"
      ],
      "execution_count": 4,
      "outputs": [
        {
          "output_type": "stream",
          "name": "stdout",
          "text": [
            "<class 'pandas.core.frame.DataFrame'>\n",
            "RangeIndex: 336776 entries, 0 to 336775\n",
            "Data columns (total 19 columns):\n",
            " #   Column          Non-Null Count   Dtype              \n",
            "---  ------          --------------   -----              \n",
            " 0   year            336776 non-null  int64              \n",
            " 1   month           336776 non-null  int64              \n",
            " 2   day             336776 non-null  int64              \n",
            " 3   dep_time        328521 non-null  float64            \n",
            " 4   sched_dep_time  336776 non-null  int64              \n",
            " 5   dep_delay       328521 non-null  float64            \n",
            " 6   arr_time        328063 non-null  float64            \n",
            " 7   sched_arr_time  336776 non-null  int64              \n",
            " 8   arr_delay       327346 non-null  float64            \n",
            " 9   carrier         336776 non-null  object             \n",
            " 10  flight          336776 non-null  int64              \n",
            " 11  tailnum         334264 non-null  object             \n",
            " 12  origin          336776 non-null  object             \n",
            " 13  dest            336776 non-null  object             \n",
            " 14  air_time        327346 non-null  float64            \n",
            " 15  distance        336776 non-null  int64              \n",
            " 16  hour            336776 non-null  int64              \n",
            " 17  minute          336776 non-null  int64              \n",
            " 18  time_hour       336776 non-null  datetime64[ns, UTC]\n",
            "dtypes: datetime64[ns, UTC](1), float64(5), int64(9), object(4)\n",
            "memory usage: 48.8+ MB\n",
            "None\n"
          ]
        }
      ]
    },
    {
      "cell_type": "code",
      "metadata": {
        "colab": {
          "base_uri": "https://localhost:8080/",
          "height": 293
        },
        "id": "xp6g20WcKu9A",
        "outputId": "814f4f1e-b418-41f3-a90d-d0c2e92f3351"
      },
      "source": [
        "# Check contents of first few records of dataframe\n",
        "all_flight_details.head()"
      ],
      "execution_count": 5,
      "outputs": [
        {
          "output_type": "execute_result",
          "data": {
            "text/html": [
              "<div>\n",
              "<style scoped>\n",
              "    .dataframe tbody tr th:only-of-type {\n",
              "        vertical-align: middle;\n",
              "    }\n",
              "\n",
              "    .dataframe tbody tr th {\n",
              "        vertical-align: top;\n",
              "    }\n",
              "\n",
              "    .dataframe thead th {\n",
              "        text-align: right;\n",
              "    }\n",
              "</style>\n",
              "<table border=\"1\" class=\"dataframe\">\n",
              "  <thead>\n",
              "    <tr style=\"text-align: right;\">\n",
              "      <th></th>\n",
              "      <th>year</th>\n",
              "      <th>month</th>\n",
              "      <th>day</th>\n",
              "      <th>dep_time</th>\n",
              "      <th>sched_dep_time</th>\n",
              "      <th>dep_delay</th>\n",
              "      <th>arr_time</th>\n",
              "      <th>sched_arr_time</th>\n",
              "      <th>arr_delay</th>\n",
              "      <th>carrier</th>\n",
              "      <th>flight</th>\n",
              "      <th>tailnum</th>\n",
              "      <th>origin</th>\n",
              "      <th>dest</th>\n",
              "      <th>air_time</th>\n",
              "      <th>distance</th>\n",
              "      <th>hour</th>\n",
              "      <th>minute</th>\n",
              "      <th>time_hour</th>\n",
              "    </tr>\n",
              "  </thead>\n",
              "  <tbody>\n",
              "    <tr>\n",
              "      <th>0</th>\n",
              "      <td>2013</td>\n",
              "      <td>1</td>\n",
              "      <td>1</td>\n",
              "      <td>517.0</td>\n",
              "      <td>515</td>\n",
              "      <td>2.0</td>\n",
              "      <td>830.0</td>\n",
              "      <td>819</td>\n",
              "      <td>11.0</td>\n",
              "      <td>UA</td>\n",
              "      <td>1545</td>\n",
              "      <td>N14228</td>\n",
              "      <td>EWR</td>\n",
              "      <td>IAH</td>\n",
              "      <td>227.0</td>\n",
              "      <td>1400</td>\n",
              "      <td>5</td>\n",
              "      <td>15</td>\n",
              "      <td>2013-01-01 05:00:00+00:00</td>\n",
              "    </tr>\n",
              "    <tr>\n",
              "      <th>1</th>\n",
              "      <td>2013</td>\n",
              "      <td>1</td>\n",
              "      <td>1</td>\n",
              "      <td>533.0</td>\n",
              "      <td>529</td>\n",
              "      <td>4.0</td>\n",
              "      <td>850.0</td>\n",
              "      <td>830</td>\n",
              "      <td>20.0</td>\n",
              "      <td>UA</td>\n",
              "      <td>1714</td>\n",
              "      <td>N24211</td>\n",
              "      <td>LGA</td>\n",
              "      <td>IAH</td>\n",
              "      <td>227.0</td>\n",
              "      <td>1416</td>\n",
              "      <td>5</td>\n",
              "      <td>29</td>\n",
              "      <td>2013-01-01 05:00:00+00:00</td>\n",
              "    </tr>\n",
              "    <tr>\n",
              "      <th>2</th>\n",
              "      <td>2013</td>\n",
              "      <td>1</td>\n",
              "      <td>1</td>\n",
              "      <td>542.0</td>\n",
              "      <td>540</td>\n",
              "      <td>2.0</td>\n",
              "      <td>923.0</td>\n",
              "      <td>850</td>\n",
              "      <td>33.0</td>\n",
              "      <td>AA</td>\n",
              "      <td>1141</td>\n",
              "      <td>N619AA</td>\n",
              "      <td>JFK</td>\n",
              "      <td>MIA</td>\n",
              "      <td>160.0</td>\n",
              "      <td>1089</td>\n",
              "      <td>5</td>\n",
              "      <td>40</td>\n",
              "      <td>2013-01-01 05:00:00+00:00</td>\n",
              "    </tr>\n",
              "    <tr>\n",
              "      <th>3</th>\n",
              "      <td>2013</td>\n",
              "      <td>1</td>\n",
              "      <td>1</td>\n",
              "      <td>544.0</td>\n",
              "      <td>545</td>\n",
              "      <td>-1.0</td>\n",
              "      <td>1004.0</td>\n",
              "      <td>1022</td>\n",
              "      <td>-18.0</td>\n",
              "      <td>B6</td>\n",
              "      <td>725</td>\n",
              "      <td>N804JB</td>\n",
              "      <td>JFK</td>\n",
              "      <td>BQN</td>\n",
              "      <td>183.0</td>\n",
              "      <td>1576</td>\n",
              "      <td>5</td>\n",
              "      <td>45</td>\n",
              "      <td>2013-01-01 05:00:00+00:00</td>\n",
              "    </tr>\n",
              "    <tr>\n",
              "      <th>4</th>\n",
              "      <td>2013</td>\n",
              "      <td>1</td>\n",
              "      <td>1</td>\n",
              "      <td>554.0</td>\n",
              "      <td>600</td>\n",
              "      <td>-6.0</td>\n",
              "      <td>812.0</td>\n",
              "      <td>837</td>\n",
              "      <td>-25.0</td>\n",
              "      <td>DL</td>\n",
              "      <td>461</td>\n",
              "      <td>N668DN</td>\n",
              "      <td>LGA</td>\n",
              "      <td>ATL</td>\n",
              "      <td>116.0</td>\n",
              "      <td>762</td>\n",
              "      <td>6</td>\n",
              "      <td>0</td>\n",
              "      <td>2013-01-01 06:00:00+00:00</td>\n",
              "    </tr>\n",
              "  </tbody>\n",
              "</table>\n",
              "</div>"
            ],
            "text/plain": [
              "   year  month  day  dep_time  ...  distance  hour  minute                 time_hour\n",
              "0  2013      1    1     517.0  ...      1400     5      15 2013-01-01 05:00:00+00:00\n",
              "1  2013      1    1     533.0  ...      1416     5      29 2013-01-01 05:00:00+00:00\n",
              "2  2013      1    1     542.0  ...      1089     5      40 2013-01-01 05:00:00+00:00\n",
              "3  2013      1    1     544.0  ...      1576     5      45 2013-01-01 05:00:00+00:00\n",
              "4  2013      1    1     554.0  ...       762     6       0 2013-01-01 06:00:00+00:00\n",
              "\n",
              "[5 rows x 19 columns]"
            ]
          },
          "metadata": {},
          "execution_count": 5
        }
      ]
    },
    {
      "cell_type": "code",
      "metadata": {
        "colab": {
          "base_uri": "https://localhost:8080/",
          "height": 320
        },
        "id": "d5jBWyFKGh4s",
        "outputId": "c27097e2-84bc-4082-ef7a-f144b70ec89c"
      },
      "source": [
        "# Get more details about contents of numeric columns\n",
        "all_flight_details.describe()"
      ],
      "execution_count": 6,
      "outputs": [
        {
          "output_type": "execute_result",
          "data": {
            "text/html": [
              "<div>\n",
              "<style scoped>\n",
              "    .dataframe tbody tr th:only-of-type {\n",
              "        vertical-align: middle;\n",
              "    }\n",
              "\n",
              "    .dataframe tbody tr th {\n",
              "        vertical-align: top;\n",
              "    }\n",
              "\n",
              "    .dataframe thead th {\n",
              "        text-align: right;\n",
              "    }\n",
              "</style>\n",
              "<table border=\"1\" class=\"dataframe\">\n",
              "  <thead>\n",
              "    <tr style=\"text-align: right;\">\n",
              "      <th></th>\n",
              "      <th>year</th>\n",
              "      <th>month</th>\n",
              "      <th>day</th>\n",
              "      <th>dep_time</th>\n",
              "      <th>sched_dep_time</th>\n",
              "      <th>dep_delay</th>\n",
              "      <th>arr_time</th>\n",
              "      <th>sched_arr_time</th>\n",
              "      <th>arr_delay</th>\n",
              "      <th>flight</th>\n",
              "      <th>air_time</th>\n",
              "      <th>distance</th>\n",
              "      <th>hour</th>\n",
              "      <th>minute</th>\n",
              "    </tr>\n",
              "  </thead>\n",
              "  <tbody>\n",
              "    <tr>\n",
              "      <th>count</th>\n",
              "      <td>336776.0</td>\n",
              "      <td>336776.000000</td>\n",
              "      <td>336776.000000</td>\n",
              "      <td>328521.000000</td>\n",
              "      <td>336776.000000</td>\n",
              "      <td>328521.000000</td>\n",
              "      <td>328063.000000</td>\n",
              "      <td>336776.000000</td>\n",
              "      <td>327346.000000</td>\n",
              "      <td>336776.000000</td>\n",
              "      <td>327346.000000</td>\n",
              "      <td>336776.000000</td>\n",
              "      <td>336776.000000</td>\n",
              "      <td>336776.000000</td>\n",
              "    </tr>\n",
              "    <tr>\n",
              "      <th>mean</th>\n",
              "      <td>2013.0</td>\n",
              "      <td>6.548510</td>\n",
              "      <td>15.710787</td>\n",
              "      <td>1349.109947</td>\n",
              "      <td>1344.254840</td>\n",
              "      <td>12.639070</td>\n",
              "      <td>1502.054999</td>\n",
              "      <td>1536.380220</td>\n",
              "      <td>6.895377</td>\n",
              "      <td>1971.923620</td>\n",
              "      <td>150.686460</td>\n",
              "      <td>1039.912604</td>\n",
              "      <td>13.180247</td>\n",
              "      <td>26.230100</td>\n",
              "    </tr>\n",
              "    <tr>\n",
              "      <th>std</th>\n",
              "      <td>0.0</td>\n",
              "      <td>3.414457</td>\n",
              "      <td>8.768607</td>\n",
              "      <td>488.281791</td>\n",
              "      <td>467.335756</td>\n",
              "      <td>40.210061</td>\n",
              "      <td>533.264132</td>\n",
              "      <td>497.457142</td>\n",
              "      <td>44.633292</td>\n",
              "      <td>1632.471938</td>\n",
              "      <td>93.688305</td>\n",
              "      <td>733.233033</td>\n",
              "      <td>4.661316</td>\n",
              "      <td>19.300846</td>\n",
              "    </tr>\n",
              "    <tr>\n",
              "      <th>min</th>\n",
              "      <td>2013.0</td>\n",
              "      <td>1.000000</td>\n",
              "      <td>1.000000</td>\n",
              "      <td>1.000000</td>\n",
              "      <td>106.000000</td>\n",
              "      <td>-43.000000</td>\n",
              "      <td>1.000000</td>\n",
              "      <td>1.000000</td>\n",
              "      <td>-86.000000</td>\n",
              "      <td>1.000000</td>\n",
              "      <td>20.000000</td>\n",
              "      <td>17.000000</td>\n",
              "      <td>1.000000</td>\n",
              "      <td>0.000000</td>\n",
              "    </tr>\n",
              "    <tr>\n",
              "      <th>25%</th>\n",
              "      <td>2013.0</td>\n",
              "      <td>4.000000</td>\n",
              "      <td>8.000000</td>\n",
              "      <td>907.000000</td>\n",
              "      <td>906.000000</td>\n",
              "      <td>-5.000000</td>\n",
              "      <td>1104.000000</td>\n",
              "      <td>1124.000000</td>\n",
              "      <td>-17.000000</td>\n",
              "      <td>553.000000</td>\n",
              "      <td>82.000000</td>\n",
              "      <td>502.000000</td>\n",
              "      <td>9.000000</td>\n",
              "      <td>8.000000</td>\n",
              "    </tr>\n",
              "    <tr>\n",
              "      <th>50%</th>\n",
              "      <td>2013.0</td>\n",
              "      <td>7.000000</td>\n",
              "      <td>16.000000</td>\n",
              "      <td>1401.000000</td>\n",
              "      <td>1359.000000</td>\n",
              "      <td>-2.000000</td>\n",
              "      <td>1535.000000</td>\n",
              "      <td>1556.000000</td>\n",
              "      <td>-5.000000</td>\n",
              "      <td>1496.000000</td>\n",
              "      <td>129.000000</td>\n",
              "      <td>872.000000</td>\n",
              "      <td>13.000000</td>\n",
              "      <td>29.000000</td>\n",
              "    </tr>\n",
              "    <tr>\n",
              "      <th>75%</th>\n",
              "      <td>2013.0</td>\n",
              "      <td>10.000000</td>\n",
              "      <td>23.000000</td>\n",
              "      <td>1744.000000</td>\n",
              "      <td>1729.000000</td>\n",
              "      <td>11.000000</td>\n",
              "      <td>1940.000000</td>\n",
              "      <td>1945.000000</td>\n",
              "      <td>14.000000</td>\n",
              "      <td>3465.000000</td>\n",
              "      <td>192.000000</td>\n",
              "      <td>1389.000000</td>\n",
              "      <td>17.000000</td>\n",
              "      <td>44.000000</td>\n",
              "    </tr>\n",
              "    <tr>\n",
              "      <th>max</th>\n",
              "      <td>2013.0</td>\n",
              "      <td>12.000000</td>\n",
              "      <td>31.000000</td>\n",
              "      <td>2400.000000</td>\n",
              "      <td>2359.000000</td>\n",
              "      <td>1301.000000</td>\n",
              "      <td>2400.000000</td>\n",
              "      <td>2359.000000</td>\n",
              "      <td>1272.000000</td>\n",
              "      <td>8500.000000</td>\n",
              "      <td>695.000000</td>\n",
              "      <td>4983.000000</td>\n",
              "      <td>23.000000</td>\n",
              "      <td>59.000000</td>\n",
              "    </tr>\n",
              "  </tbody>\n",
              "</table>\n",
              "</div>"
            ],
            "text/plain": [
              "           year          month  ...           hour         minute\n",
              "count  336776.0  336776.000000  ...  336776.000000  336776.000000\n",
              "mean     2013.0       6.548510  ...      13.180247      26.230100\n",
              "std         0.0       3.414457  ...       4.661316      19.300846\n",
              "min      2013.0       1.000000  ...       1.000000       0.000000\n",
              "25%      2013.0       4.000000  ...       9.000000       8.000000\n",
              "50%      2013.0       7.000000  ...      13.000000      29.000000\n",
              "75%      2013.0      10.000000  ...      17.000000      44.000000\n",
              "max      2013.0      12.000000  ...      23.000000      59.000000\n",
              "\n",
              "[8 rows x 14 columns]"
            ]
          },
          "metadata": {},
          "execution_count": 6
        }
      ]
    },
    {
      "cell_type": "code",
      "metadata": {
        "colab": {
          "base_uri": "https://localhost:8080/"
        },
        "id": "COqU3fiVMrvQ",
        "scrolled": true,
        "outputId": "62bce85b-7a03-467f-daf3-821670a3debb"
      },
      "source": [
        "all_flight_details['carrier'].value_counts()"
      ],
      "execution_count": 7,
      "outputs": [
        {
          "output_type": "execute_result",
          "data": {
            "text/plain": [
              "UA    58665\n",
              "B6    54635\n",
              "EV    54173\n",
              "DL    48110\n",
              "AA    32729\n",
              "MQ    26397\n",
              "US    20536\n",
              "9E    18460\n",
              "WN    12275\n",
              "VX     5162\n",
              "FL     3260\n",
              "AS      714\n",
              "F9      685\n",
              "YV      601\n",
              "HA      342\n",
              "OO       32\n",
              "Name: carrier, dtype: int64"
            ]
          },
          "metadata": {},
          "execution_count": 7
        }
      ]
    },
    {
      "cell_type": "markdown",
      "metadata": {
        "id": "4CRkuZlRLzDG"
      },
      "source": [
        "## Exploratory Data Analysis (EDA) Results:\n",
        "\n",
        "Dataset contains data from January to December of the year 2013 for 16 airline carriers. Both of the concerned airlines (DL and UA) have over 40,000 records. The columns dep_time, dep_delay, arr_time, arr_delay, tail_num, and air_time has empty values as they do not have their total \"non-null count\" does not match the actual CSV record count of 336,776 records)."
      ]
    },
    {
      "cell_type": "markdown",
      "metadata": {
        "id": "Q0htmQkrOxBf"
      },
      "source": [
        "\n",
        "\n",
        "---\n",
        "\n"
      ]
    },
    {
      "cell_type": "markdown",
      "metadata": {
        "id": "qFF_xUAnzrh6"
      },
      "source": [
        "# Task 2:\n",
        "Create at least 5 different views (reports) to the team using the imported dataset. The reports should be composed of a description, charts and tables based on some selected columns. These reports can give some insights to the team about the airport operation and potential optimizations."
      ]
    },
    {
      "cell_type": "markdown",
      "metadata": {
        "id": "3sOrskgnYenY"
      },
      "source": [
        "## Arrival Delay of All Flights\n",
        "Description:\n",
        "The report below shows a histogram of the arrival delays of all flights. Most flights are able to arrive on time or even in advance, as can be seen since most of the area falls to the left of the value of 0 on the x-axis. Early arrivals are at most about one hour early but late arrivals can reach up to two hours or more. Work can be done to improve on making the maximum arrival delay shorter to less than an hour."
      ]
    },
    {
      "cell_type": "code",
      "metadata": {
        "id": "WFwqEo0tYenZ",
        "colab": {
          "base_uri": "https://localhost:8080/"
        },
        "outputId": "a7982a4e-9a7f-42aa-ca18-a7f6ad9f1c33"
      },
      "source": [
        "# Preview data\n",
        "all_flight_details['arr_delay'].value_counts()"
      ],
      "execution_count": 8,
      "outputs": [
        {
          "output_type": "execute_result",
          "data": {
            "text/plain": [
              "-13.0     7177\n",
              "-10.0     7088\n",
              "-12.0     7046\n",
              "-14.0     6975\n",
              "-11.0     6863\n",
              "          ... \n",
              " 850.0       1\n",
              " 375.0       1\n",
              " 506.0       1\n",
              " 595.0       1\n",
              " 379.0       1\n",
              "Name: arr_delay, Length: 577, dtype: int64"
            ]
          },
          "metadata": {},
          "execution_count": 8
        }
      ]
    },
    {
      "cell_type": "code",
      "metadata": {
        "colab": {
          "base_uri": "https://localhost:8080/",
          "height": 283
        },
        "id": "tSEwCNrGP9W-",
        "scrolled": true,
        "outputId": "def3c2d8-dadb-4281-9b61-e064f2845419"
      },
      "source": [
        "# Plot the report\n",
        "all_flight_details['arr_delay'].plot(kind='hist', bins=1000, xlim=(-100,200))"
      ],
      "execution_count": 9,
      "outputs": [
        {
          "output_type": "execute_result",
          "data": {
            "text/plain": [
              "<matplotlib.axes._subplots.AxesSubplot at 0x7f0affd72b90>"
            ]
          },
          "metadata": {},
          "execution_count": 9
        },
        {
          "output_type": "display_data",
          "data": {
            "image/png": "[encoded data removed]",
            "text/plain": [
              "<Figure size 432x288 with 1 Axes>"
            ]
          },
          "metadata": {
            "needs_background": "light"
          }
        }
      ]
    },
    {
      "cell_type": "markdown",
      "metadata": {
        "id": "o4OMg7xRYena"
      },
      "source": [
        "## Flights per Carrier\n",
        "Description: The report below shows that the top 5 carriers with the most number of flights have close to 75% of the total flights of the airport. Therefore, losing any of these top 5 carriers as a customer will severely impact the profitability of the airport."
      ]
    },
    {
      "cell_type": "code",
      "metadata": {
        "id": "WDscDmFEYena",
        "colab": {
          "base_uri": "https://localhost:8080/"
        },
        "outputId": "8d5dd546-5713-4c19-e894-f30f31b6d1ba"
      },
      "source": [
        "# Show the report data\n",
        "all_flight_details['carrier'].value_counts()"
      ],
      "execution_count": 10,
      "outputs": [
        {
          "output_type": "execute_result",
          "data": {
            "text/plain": [
              "UA    58665\n",
              "B6    54635\n",
              "EV    54173\n",
              "DL    48110\n",
              "AA    32729\n",
              "MQ    26397\n",
              "US    20536\n",
              "9E    18460\n",
              "WN    12275\n",
              "VX     5162\n",
              "FL     3260\n",
              "AS      714\n",
              "F9      685\n",
              "YV      601\n",
              "HA      342\n",
              "OO       32\n",
              "Name: carrier, dtype: int64"
            ]
          },
          "metadata": {},
          "execution_count": 10
        }
      ]
    },
    {
      "cell_type": "code",
      "metadata": {
        "id": "eu3YWu3nYenb",
        "colab": {
          "base_uri": "https://localhost:8080/",
          "height": 266
        },
        "outputId": "0a197576-608b-4990-a835-716e5adfa78c"
      },
      "source": [
        "# Plot the report\n",
        "all_flight_details['carrier'].value_counts().plot(kind='pie')"
      ],
      "execution_count": 11,
      "outputs": [
        {
          "output_type": "execute_result",
          "data": {
            "text/plain": [
              "<matplotlib.axes._subplots.AxesSubplot at 0x7f0b0405a6d0>"
            ]
          },
          "metadata": {},
          "execution_count": 11
        },
        {
          "output_type": "display_data",
          "data": {
            "image/png": "[encoded data removed]",
            "text/plain": [
              "<Figure size 432x288 with 1 Axes>"
            ]
          },
          "metadata": {}
        }
      ]
    },
    {
      "cell_type": "markdown",
      "metadata": {
        "id": "k98aBitlYenc"
      },
      "source": [
        "## Flights per Month\n",
        "Description: The report below shows the number of flights per month. Based on the data, the busiest months are in July and August while the slowest months are January and February. This data can be used for resource planning such as manpower and pre-ordering of consumables like jetfuel."
      ]
    },
    {
      "cell_type": "code",
      "metadata": {
        "scrolled": true,
        "id": "EpA5a8IvYenc",
        "colab": {
          "base_uri": "https://localhost:8080/",
          "height": 457
        },
        "outputId": "898a3784-ab46-4114-9307-84e1f7829adb"
      },
      "source": [
        "# Prepare the data for the report\n",
        "flights_per_month_temp = all_flight_details[['time_hour']]\n",
        "flights_per_month_temp.insert(1,'count', 1)\n",
        "flights_per_month = flights_per_month_temp.groupby(pd.Grouper(key='time_hour', axis=0, freq='M')).count()\n",
        "\n",
        "# Show the data\n",
        "flights_per_month"
      ],
      "execution_count": 12,
      "outputs": [
        {
          "output_type": "execute_result",
          "data": {
            "text/html": [
              "<div>\n",
              "<style scoped>\n",
              "    .dataframe tbody tr th:only-of-type {\n",
              "        vertical-align: middle;\n",
              "    }\n",
              "\n",
              "    .dataframe tbody tr th {\n",
              "        vertical-align: top;\n",
              "    }\n",
              "\n",
              "    .dataframe thead th {\n",
              "        text-align: right;\n",
              "    }\n",
              "</style>\n",
              "<table border=\"1\" class=\"dataframe\">\n",
              "  <thead>\n",
              "    <tr style=\"text-align: right;\">\n",
              "      <th></th>\n",
              "      <th>count</th>\n",
              "    </tr>\n",
              "    <tr>\n",
              "      <th>time_hour</th>\n",
              "      <th></th>\n",
              "    </tr>\n",
              "  </thead>\n",
              "  <tbody>\n",
              "    <tr>\n",
              "      <th>2013-01-31 00:00:00+00:00</th>\n",
              "      <td>27004</td>\n",
              "    </tr>\n",
              "    <tr>\n",
              "      <th>2013-02-28 00:00:00+00:00</th>\n",
              "      <td>24951</td>\n",
              "    </tr>\n",
              "    <tr>\n",
              "      <th>2013-03-31 00:00:00+00:00</th>\n",
              "      <td>28834</td>\n",
              "    </tr>\n",
              "    <tr>\n",
              "      <th>2013-04-30 00:00:00+00:00</th>\n",
              "      <td>28330</td>\n",
              "    </tr>\n",
              "    <tr>\n",
              "      <th>2013-05-31 00:00:00+00:00</th>\n",
              "      <td>28796</td>\n",
              "    </tr>\n",
              "    <tr>\n",
              "      <th>2013-06-30 00:00:00+00:00</th>\n",
              "      <td>28243</td>\n",
              "    </tr>\n",
              "    <tr>\n",
              "      <th>2013-07-31 00:00:00+00:00</th>\n",
              "      <td>29425</td>\n",
              "    </tr>\n",
              "    <tr>\n",
              "      <th>2013-08-31 00:00:00+00:00</th>\n",
              "      <td>29327</td>\n",
              "    </tr>\n",
              "    <tr>\n",
              "      <th>2013-09-30 00:00:00+00:00</th>\n",
              "      <td>27574</td>\n",
              "    </tr>\n",
              "    <tr>\n",
              "      <th>2013-10-31 00:00:00+00:00</th>\n",
              "      <td>28889</td>\n",
              "    </tr>\n",
              "    <tr>\n",
              "      <th>2013-11-30 00:00:00+00:00</th>\n",
              "      <td>27268</td>\n",
              "    </tr>\n",
              "    <tr>\n",
              "      <th>2013-12-31 00:00:00+00:00</th>\n",
              "      <td>28135</td>\n",
              "    </tr>\n",
              "  </tbody>\n",
              "</table>\n",
              "</div>"
            ],
            "text/plain": [
              "                           count\n",
              "time_hour                       \n",
              "2013-01-31 00:00:00+00:00  27004\n",
              "2013-02-28 00:00:00+00:00  24951\n",
              "2013-03-31 00:00:00+00:00  28834\n",
              "2013-04-30 00:00:00+00:00  28330\n",
              "2013-05-31 00:00:00+00:00  28796\n",
              "2013-06-30 00:00:00+00:00  28243\n",
              "2013-07-31 00:00:00+00:00  29425\n",
              "2013-08-31 00:00:00+00:00  29327\n",
              "2013-09-30 00:00:00+00:00  27574\n",
              "2013-10-31 00:00:00+00:00  28889\n",
              "2013-11-30 00:00:00+00:00  27268\n",
              "2013-12-31 00:00:00+00:00  28135"
            ]
          },
          "metadata": {},
          "execution_count": 12
        }
      ]
    },
    {
      "cell_type": "code",
      "metadata": {
        "id": "tVgDKMq8Yend",
        "colab": {
          "base_uri": "https://localhost:8080/",
          "height": 310
        },
        "outputId": "37afccca-51a6-49c3-bae1-1de2b55b238e"
      },
      "source": [
        "# Plot the report\n",
        "flights_per_month.plot(kind='line', ylim=(22500,32500))"
      ],
      "execution_count": 13,
      "outputs": [
        {
          "output_type": "execute_result",
          "data": {
            "text/plain": [
              "<matplotlib.axes._subplots.AxesSubplot at 0x7f0aff585c50>"
            ]
          },
          "metadata": {},
          "execution_count": 13
        },
        {
          "output_type": "display_data",
          "data": {
            "image/png": "[encoded data removed]",
            "text/plain": [
              "<Figure size 432x288 with 1 Axes>"
            ]
          },
          "metadata": {
            "needs_background": "light"
          }
        }
      ]
    },
    {
      "cell_type": "markdown",
      "metadata": {
        "id": "q2nlYKJanRgW"
      },
      "source": [
        "## Departure Delay Statistics per Carrier\n",
        "Description: The report below shows that among the carriers, carrier \"US\" is the most consistent to depart near the scheduled departure time as indicated by a small mean value and a lowest standard deviation from the mean. It also shows that carrier \"F9\" is the most likely to be delay and the amount of delay varies by a wide margin. Another interesting point is that carrier \"HA\", while it has an average delay of only about 5 mins, has the largest standard deviation meaning it is the least consistent. That is, it can be very early or very late."
      ]
    },
    {
      "cell_type": "code",
      "metadata": {
        "scrolled": false,
        "id": "tCf5kz8hYend",
        "colab": {
          "base_uri": "https://localhost:8080/",
          "height": 551
        },
        "outputId": "5799fc75-3316-48f7-8ef1-738227a5629c"
      },
      "source": [
        "# Prepare the data for the report\n",
        "departure_delay_stats = all_flight_details[['carrier', 'dep_delay']].groupby(pd.Grouper(key='carrier')).agg([np.nanmean, np.nanstd])\n",
        "departure_delay_stats_per_carrier = pd.DataFrame({'carrier': departure_delay_stats.index.values, 'mean': departure_delay_stats['dep_delay']['nanmean'].values, 'stddev': departure_delay_stats['dep_delay']['nanstd'].values})\n",
        "\n",
        "# Show the data\n",
        "departure_delay_stats_per_carrier"
      ],
      "execution_count": 14,
      "outputs": [
        {
          "output_type": "execute_result",
          "data": {
            "text/html": [
              "<div>\n",
              "<style scoped>\n",
              "    .dataframe tbody tr th:only-of-type {\n",
              "        vertical-align: middle;\n",
              "    }\n",
              "\n",
              "    .dataframe tbody tr th {\n",
              "        vertical-align: top;\n",
              "    }\n",
              "\n",
              "    .dataframe thead th {\n",
              "        text-align: right;\n",
              "    }\n",
              "</style>\n",
              "<table border=\"1\" class=\"dataframe\">\n",
              "  <thead>\n",
              "    <tr style=\"text-align: right;\">\n",
              "      <th></th>\n",
              "      <th>carrier</th>\n",
              "      <th>mean</th>\n",
              "      <th>stddev</th>\n",
              "    </tr>\n",
              "  </thead>\n",
              "  <tbody>\n",
              "    <tr>\n",
              "      <th>0</th>\n",
              "      <td>UA</td>\n",
              "      <td>12.106073</td>\n",
              "      <td>35.716597</td>\n",
              "    </tr>\n",
              "    <tr>\n",
              "      <th>1</th>\n",
              "      <td>AA</td>\n",
              "      <td>8.586016</td>\n",
              "      <td>37.354861</td>\n",
              "    </tr>\n",
              "    <tr>\n",
              "      <th>2</th>\n",
              "      <td>B6</td>\n",
              "      <td>13.022522</td>\n",
              "      <td>38.503368</td>\n",
              "    </tr>\n",
              "    <tr>\n",
              "      <th>3</th>\n",
              "      <td>DL</td>\n",
              "      <td>9.264505</td>\n",
              "      <td>39.735052</td>\n",
              "    </tr>\n",
              "    <tr>\n",
              "      <th>4</th>\n",
              "      <td>EV</td>\n",
              "      <td>19.955390</td>\n",
              "      <td>46.552354</td>\n",
              "    </tr>\n",
              "    <tr>\n",
              "      <th>5</th>\n",
              "      <td>MQ</td>\n",
              "      <td>10.552041</td>\n",
              "      <td>39.184566</td>\n",
              "    </tr>\n",
              "    <tr>\n",
              "      <th>6</th>\n",
              "      <td>US</td>\n",
              "      <td>3.782418</td>\n",
              "      <td>28.056334</td>\n",
              "    </tr>\n",
              "    <tr>\n",
              "      <th>7</th>\n",
              "      <td>WN</td>\n",
              "      <td>17.711744</td>\n",
              "      <td>43.344355</td>\n",
              "    </tr>\n",
              "    <tr>\n",
              "      <th>8</th>\n",
              "      <td>VX</td>\n",
              "      <td>12.869421</td>\n",
              "      <td>44.815099</td>\n",
              "    </tr>\n",
              "    <tr>\n",
              "      <th>9</th>\n",
              "      <td>FL</td>\n",
              "      <td>18.726075</td>\n",
              "      <td>52.661600</td>\n",
              "    </tr>\n",
              "    <tr>\n",
              "      <th>10</th>\n",
              "      <td>AS</td>\n",
              "      <td>5.804775</td>\n",
              "      <td>31.363032</td>\n",
              "    </tr>\n",
              "    <tr>\n",
              "      <th>11</th>\n",
              "      <td>9E</td>\n",
              "      <td>16.725769</td>\n",
              "      <td>45.906038</td>\n",
              "    </tr>\n",
              "    <tr>\n",
              "      <th>12</th>\n",
              "      <td>F9</td>\n",
              "      <td>20.215543</td>\n",
              "      <td>58.362648</td>\n",
              "    </tr>\n",
              "    <tr>\n",
              "      <th>13</th>\n",
              "      <td>HA</td>\n",
              "      <td>4.900585</td>\n",
              "      <td>74.109901</td>\n",
              "    </tr>\n",
              "    <tr>\n",
              "      <th>14</th>\n",
              "      <td>YV</td>\n",
              "      <td>18.996330</td>\n",
              "      <td>49.172266</td>\n",
              "    </tr>\n",
              "    <tr>\n",
              "      <th>15</th>\n",
              "      <td>OO</td>\n",
              "      <td>12.586207</td>\n",
              "      <td>43.065994</td>\n",
              "    </tr>\n",
              "  </tbody>\n",
              "</table>\n",
              "</div>"
            ],
            "text/plain": [
              "   carrier       mean     stddev\n",
              "0       UA  12.106073  35.716597\n",
              "1       AA   8.586016  37.354861\n",
              "2       B6  13.022522  38.503368\n",
              "3       DL   9.264505  39.735052\n",
              "4       EV  19.955390  46.552354\n",
              "5       MQ  10.552041  39.184566\n",
              "6       US   3.782418  28.056334\n",
              "7       WN  17.711744  43.344355\n",
              "8       VX  12.869421  44.815099\n",
              "9       FL  18.726075  52.661600\n",
              "10      AS   5.804775  31.363032\n",
              "11      9E  16.725769  45.906038\n",
              "12      F9  20.215543  58.362648\n",
              "13      HA   4.900585  74.109901\n",
              "14      YV  18.996330  49.172266\n",
              "15      OO  12.586207  43.065994"
            ]
          },
          "metadata": {},
          "execution_count": 14
        }
      ]
    },
    {
      "cell_type": "code",
      "metadata": {
        "scrolled": false,
        "id": "_5r2KisaYend",
        "colab": {
          "base_uri": "https://localhost:8080/",
          "height": 283
        },
        "outputId": "738b4ffe-261d-447e-a127-5e4db5b02405"
      },
      "source": [
        "# Setup/configure the plot\n",
        "fig, ax = plt.subplots()\n",
        "\n",
        "# Prepare colors for use in the chart\n",
        "nrof_labels = departure_delay_stats_per_carrier.shape[0]\n",
        "colors = cm.rainbow(np.linspace(0, 1, nrof_labels))\n",
        "\n",
        "for i, r in departure_delay_stats_per_carrier.iterrows():\n",
        "    ax.plot(r['mean'], r['stddev'], marker='o', markersize=15, color=colors[i], linewidth=0.1, label=r['carrier'])\n",
        "\n",
        "ax.set_xlim(0, 30)\n",
        "ax.set_ylim(0, 90)\n",
        "plt.legend(loc='best')\n",
        "\n",
        "# Show the report\n",
        "plt.show()"
      ],
      "execution_count": 15,
      "outputs": [
        {
          "output_type": "display_data",
          "data": {
            "image/png": "[encoded data removed]",
            "text/plain": [
              "<Figure size 432x288 with 1 Axes>"
            ]
          },
          "metadata": {
            "needs_background": "light"
          }
        }
      ]
    },
    {
      "cell_type": "markdown",
      "metadata": {
        "id": "s_H7isaQYene"
      },
      "source": [
        "## Flights per Day of Week\n",
        "Description: The report below shows the number of flights per day of the week. Based on the data, the number of flights from Monday to Friday are pretty much the same. However, there are fewer flights on weekends specially on Saturdays. This information can also be used for resource planning or for finding schedules for new flights."
      ]
    },
    {
      "cell_type": "code",
      "metadata": {
        "id": "uCgm-tajnXuy",
        "scrolled": true,
        "colab": {
          "base_uri": "https://localhost:8080/",
          "height": 269
        },
        "outputId": "a781c15a-6811-4552-c32f-cb42657e7ff5"
      },
      "source": [
        "# Prepare the data for the report\n",
        "all_flight_details_datenday = all_flight_details[['time_hour']]\n",
        "all_flight_details_datenday.insert(1, 'dayofweek', all_flight_details_datenday['time_hour'].dt.dayofweek)\n",
        "count_per_day_of_week = all_flight_details_datenday['dayofweek'].value_counts().sort_index()\n",
        "\n",
        "# Fix the column names\n",
        "days_of_week = ['MO', 'TU', 'WE', 'TH', 'FR', 'SA', 'SU']\n",
        "flights_per_dayofweek = pd.DataFrame({'day': days_of_week, 'count': count_per_day_of_week})\n",
        "\n",
        "# Show the data\n",
        "flights_per_dayofweek"
      ],
      "execution_count": 16,
      "outputs": [
        {
          "output_type": "execute_result",
          "data": {
            "text/html": [
              "<div>\n",
              "<style scoped>\n",
              "    .dataframe tbody tr th:only-of-type {\n",
              "        vertical-align: middle;\n",
              "    }\n",
              "\n",
              "    .dataframe tbody tr th {\n",
              "        vertical-align: top;\n",
              "    }\n",
              "\n",
              "    .dataframe thead th {\n",
              "        text-align: right;\n",
              "    }\n",
              "</style>\n",
              "<table border=\"1\" class=\"dataframe\">\n",
              "  <thead>\n",
              "    <tr style=\"text-align: right;\">\n",
              "      <th></th>\n",
              "      <th>day</th>\n",
              "      <th>count</th>\n",
              "    </tr>\n",
              "  </thead>\n",
              "  <tbody>\n",
              "    <tr>\n",
              "      <th>0</th>\n",
              "      <td>MO</td>\n",
              "      <td>50690</td>\n",
              "    </tr>\n",
              "    <tr>\n",
              "      <th>1</th>\n",
              "      <td>TU</td>\n",
              "      <td>50422</td>\n",
              "    </tr>\n",
              "    <tr>\n",
              "      <th>2</th>\n",
              "      <td>WE</td>\n",
              "      <td>50060</td>\n",
              "    </tr>\n",
              "    <tr>\n",
              "      <th>3</th>\n",
              "      <td>TH</td>\n",
              "      <td>50219</td>\n",
              "    </tr>\n",
              "    <tr>\n",
              "      <th>4</th>\n",
              "      <td>FR</td>\n",
              "      <td>50308</td>\n",
              "    </tr>\n",
              "    <tr>\n",
              "      <th>5</th>\n",
              "      <td>SA</td>\n",
              "      <td>38720</td>\n",
              "    </tr>\n",
              "    <tr>\n",
              "      <th>6</th>\n",
              "      <td>SU</td>\n",
              "      <td>46357</td>\n",
              "    </tr>\n",
              "  </tbody>\n",
              "</table>\n",
              "</div>"
            ],
            "text/plain": [
              "  day  count\n",
              "0  MO  50690\n",
              "1  TU  50422\n",
              "2  WE  50060\n",
              "3  TH  50219\n",
              "4  FR  50308\n",
              "5  SA  38720\n",
              "6  SU  46357"
            ]
          },
          "metadata": {},
          "execution_count": 16
        }
      ]
    },
    {
      "cell_type": "code",
      "metadata": {
        "scrolled": false,
        "id": "x6F2kArGYene",
        "colab": {
          "base_uri": "https://localhost:8080/",
          "height": 283
        },
        "outputId": "cbe2f802-8045-470d-ca1d-bdd01732b035"
      },
      "source": [
        "# Show the report\n",
        "flights_per_dayofweek.plot(kind='barh', x='day', legend=False)"
      ],
      "execution_count": 17,
      "outputs": [
        {
          "output_type": "execute_result",
          "data": {
            "text/plain": [
              "<matplotlib.axes._subplots.AxesSubplot at 0x7f0b0614b150>"
            ]
          },
          "metadata": {},
          "execution_count": 17
        },
        {
          "output_type": "display_data",
          "data": {
            "image/png": "[encoded data removed]",
            "text/plain": [
              "<Figure size 432x288 with 1 Axes>"
            ]
          },
          "metadata": {
            "needs_background": "light"
          }
        }
      ]
    },
    {
      "cell_type": "markdown",
      "metadata": {
        "id": "O-ao4w7CT-dF"
      },
      "source": [
        "\n",
        "\n",
        "---\n",
        "\n"
      ]
    },
    {
      "cell_type": "markdown",
      "metadata": {
        "id": "ry9s6NIr0HQA"
      },
      "source": [
        "# Task 3:\n",
        "Create a new dataset named (pop_data) with flight data from airlines UA (United Airlines) and DL (Delta Airlines). The data set must contain only two columns, company name and delayed arrival flights. The data must be extracted from dataset flights.csv to build the pop_data dataset. The dataset should be limited to no more than 20,000 rows per airlines."
      ]
    },
    {
      "cell_type": "code",
      "metadata": {
        "scrolled": true,
        "id": "5V_Bb_oFYenf",
        "colab": {
          "base_uri": "https://localhost:8080/"
        },
        "outputId": "bf58a6f5-f54e-4285-df6d-da02fea0bb49"
      },
      "source": [
        "# Get the indices of records containing only DL flights\n",
        "dl_indices = all_flight_details.index[all_flight_details['carrier'] == 'DL']\n",
        "dl_indices"
      ],
      "execution_count": 18,
      "outputs": [
        {
          "output_type": "execute_result",
          "data": {
            "text/plain": [
              "Int64Index([     4,     20,     23,     29,     53,     54,     55,     56,\n",
              "                61,     62,\n",
              "            ...\n",
              "            336651, 336656, 336662, 336666, 336667, 336670, 336674, 336715,\n",
              "            336718, 336744],\n",
              "           dtype='int64', length=48110)"
            ]
          },
          "metadata": {},
          "execution_count": 18
        }
      ]
    },
    {
      "cell_type": "code",
      "metadata": {
        "id": "WcMxfxNMYenf",
        "colab": {
          "base_uri": "https://localhost:8080/"
        },
        "outputId": "63cc5afa-5452-47f9-8974-dcf6566dfa7b"
      },
      "source": [
        "# Get the indices of records containing only DL flights\n",
        "ua_indices = all_flight_details.index[all_flight_details['carrier'] == 'UA']\n",
        "ua_indices"
      ],
      "execution_count": 19,
      "outputs": [
        {
          "output_type": "execute_result",
          "data": {
            "text/plain": [
              "Int64Index([     0,      1,      5,     12,     13,     16,     24,     26,\n",
              "                32,     37,\n",
              "            ...\n",
              "            336697, 336699, 336702, 336706, 336714, 336723, 336728, 336737,\n",
              "            336755, 336762],\n",
              "           dtype='int64', length=58665)"
            ]
          },
          "metadata": {},
          "execution_count": 19
        }
      ]
    },
    {
      "cell_type": "code",
      "metadata": {
        "scrolled": true,
        "id": "qkOTbiVgYenf",
        "colab": {
          "base_uri": "https://localhost:8080/"
        },
        "outputId": "16f43145-0b80-4343-f013-ab9b8a0ed10c"
      },
      "source": [
        "# Merge the two indices while only getting the first 20000 from each set\n",
        "tgt_indices = dl_indices[:20000].union(ua_indices[:20000])\n",
        "tgt_indices"
      ],
      "execution_count": 20,
      "outputs": [
        {
          "output_type": "execute_result",
          "data": {
            "text/plain": [
              "Int64Index([     0,      1,      4,      5,     12,     13,     16,     20,\n",
              "                23,     24,\n",
              "            ...\n",
              "            141983, 141985, 141995, 141996, 142013, 142034, 142042, 142046,\n",
              "            142053, 142058],\n",
              "           dtype='int64', length=40000)"
            ]
          },
          "metadata": {},
          "execution_count": 20
        }
      ]
    },
    {
      "cell_type": "code",
      "metadata": {
        "scrolled": true,
        "id": "hppt0uukYeng",
        "colab": {
          "base_uri": "https://localhost:8080/",
          "height": 597
        },
        "outputId": "eef124bf-2025-45bf-86c5-f036d9823b42"
      },
      "source": [
        "# Get the records corresponding to the target indices\n",
        "tgt_records = all_flight_details.loc[tgt_indices]\n",
        "tgt_records"
      ],
      "execution_count": 21,
      "outputs": [
        {
          "output_type": "execute_result",
          "data": {
            "text/html": [
              "<div>\n",
              "<style scoped>\n",
              "    .dataframe tbody tr th:only-of-type {\n",
              "        vertical-align: middle;\n",
              "    }\n",
              "\n",
              "    .dataframe tbody tr th {\n",
              "        vertical-align: top;\n",
              "    }\n",
              "\n",
              "    .dataframe thead th {\n",
              "        text-align: right;\n",
              "    }\n",
              "</style>\n",
              "<table border=\"1\" class=\"dataframe\">\n",
              "  <thead>\n",
              "    <tr style=\"text-align: right;\">\n",
              "      <th></th>\n",
              "      <th>year</th>\n",
              "      <th>month</th>\n",
              "      <th>day</th>\n",
              "      <th>dep_time</th>\n",
              "      <th>sched_dep_time</th>\n",
              "      <th>dep_delay</th>\n",
              "      <th>arr_time</th>\n",
              "      <th>sched_arr_time</th>\n",
              "      <th>arr_delay</th>\n",
              "      <th>carrier</th>\n",
              "      <th>flight</th>\n",
              "      <th>tailnum</th>\n",
              "      <th>origin</th>\n",
              "      <th>dest</th>\n",
              "      <th>air_time</th>\n",
              "      <th>distance</th>\n",
              "      <th>hour</th>\n",
              "      <th>minute</th>\n",
              "      <th>time_hour</th>\n",
              "    </tr>\n",
              "  </thead>\n",
              "  <tbody>\n",
              "    <tr>\n",
              "      <th>0</th>\n",
              "      <td>2013</td>\n",
              "      <td>1</td>\n",
              "      <td>1</td>\n",
              "      <td>517.0</td>\n",
              "      <td>515</td>\n",
              "      <td>2.0</td>\n",
              "      <td>830.0</td>\n",
              "      <td>819</td>\n",
              "      <td>11.0</td>\n",
              "      <td>UA</td>\n",
              "      <td>1545</td>\n",
              "      <td>N14228</td>\n",
              "      <td>EWR</td>\n",
              "      <td>IAH</td>\n",
              "      <td>227.0</td>\n",
              "      <td>1400</td>\n",
              "      <td>5</td>\n",
              "      <td>15</td>\n",
              "      <td>2013-01-01 05:00:00+00:00</td>\n",
              "    </tr>\n",
              "    <tr>\n",
              "      <th>1</th>\n",
              "      <td>2013</td>\n",
              "      <td>1</td>\n",
              "      <td>1</td>\n",
              "      <td>533.0</td>\n",
              "      <td>529</td>\n",
              "      <td>4.0</td>\n",
              "      <td>850.0</td>\n",
              "      <td>830</td>\n",
              "      <td>20.0</td>\n",
              "      <td>UA</td>\n",
              "      <td>1714</td>\n",
              "      <td>N24211</td>\n",
              "      <td>LGA</td>\n",
              "      <td>IAH</td>\n",
              "      <td>227.0</td>\n",
              "      <td>1416</td>\n",
              "      <td>5</td>\n",
              "      <td>29</td>\n",
              "      <td>2013-01-01 05:00:00+00:00</td>\n",
              "    </tr>\n",
              "    <tr>\n",
              "      <th>4</th>\n",
              "      <td>2013</td>\n",
              "      <td>1</td>\n",
              "      <td>1</td>\n",
              "      <td>554.0</td>\n",
              "      <td>600</td>\n",
              "      <td>-6.0</td>\n",
              "      <td>812.0</td>\n",
              "      <td>837</td>\n",
              "      <td>-25.0</td>\n",
              "      <td>DL</td>\n",
              "      <td>461</td>\n",
              "      <td>N668DN</td>\n",
              "      <td>LGA</td>\n",
              "      <td>ATL</td>\n",
              "      <td>116.0</td>\n",
              "      <td>762</td>\n",
              "      <td>6</td>\n",
              "      <td>0</td>\n",
              "      <td>2013-01-01 06:00:00+00:00</td>\n",
              "    </tr>\n",
              "    <tr>\n",
              "      <th>5</th>\n",
              "      <td>2013</td>\n",
              "      <td>1</td>\n",
              "      <td>1</td>\n",
              "      <td>554.0</td>\n",
              "      <td>558</td>\n",
              "      <td>-4.0</td>\n",
              "      <td>740.0</td>\n",
              "      <td>728</td>\n",
              "      <td>12.0</td>\n",
              "      <td>UA</td>\n",
              "      <td>1696</td>\n",
              "      <td>N39463</td>\n",
              "      <td>EWR</td>\n",
              "      <td>ORD</td>\n",
              "      <td>150.0</td>\n",
              "      <td>719</td>\n",
              "      <td>5</td>\n",
              "      <td>58</td>\n",
              "      <td>2013-01-01 05:00:00+00:00</td>\n",
              "    </tr>\n",
              "    <tr>\n",
              "      <th>12</th>\n",
              "      <td>2013</td>\n",
              "      <td>1</td>\n",
              "      <td>1</td>\n",
              "      <td>558.0</td>\n",
              "      <td>600</td>\n",
              "      <td>-2.0</td>\n",
              "      <td>924.0</td>\n",
              "      <td>917</td>\n",
              "      <td>7.0</td>\n",
              "      <td>UA</td>\n",
              "      <td>194</td>\n",
              "      <td>N29129</td>\n",
              "      <td>JFK</td>\n",
              "      <td>LAX</td>\n",
              "      <td>345.0</td>\n",
              "      <td>2475</td>\n",
              "      <td>6</td>\n",
              "      <td>0</td>\n",
              "      <td>2013-01-01 06:00:00+00:00</td>\n",
              "    </tr>\n",
              "    <tr>\n",
              "      <th>...</th>\n",
              "      <td>...</td>\n",
              "      <td>...</td>\n",
              "      <td>...</td>\n",
              "      <td>...</td>\n",
              "      <td>...</td>\n",
              "      <td>...</td>\n",
              "      <td>...</td>\n",
              "      <td>...</td>\n",
              "      <td>...</td>\n",
              "      <td>...</td>\n",
              "      <td>...</td>\n",
              "      <td>...</td>\n",
              "      <td>...</td>\n",
              "      <td>...</td>\n",
              "      <td>...</td>\n",
              "      <td>...</td>\n",
              "      <td>...</td>\n",
              "      <td>...</td>\n",
              "      <td>...</td>\n",
              "    </tr>\n",
              "    <tr>\n",
              "      <th>142034</th>\n",
              "      <td>2013</td>\n",
              "      <td>3</td>\n",
              "      <td>7</td>\n",
              "      <td>954.0</td>\n",
              "      <td>900</td>\n",
              "      <td>54.0</td>\n",
              "      <td>1156.0</td>\n",
              "      <td>1116</td>\n",
              "      <td>40.0</td>\n",
              "      <td>DL</td>\n",
              "      <td>181</td>\n",
              "      <td>N3764D</td>\n",
              "      <td>LGA</td>\n",
              "      <td>DTW</td>\n",
              "      <td>80.0</td>\n",
              "      <td>502</td>\n",
              "      <td>9</td>\n",
              "      <td>0</td>\n",
              "      <td>2013-03-07 09:00:00+00:00</td>\n",
              "    </tr>\n",
              "    <tr>\n",
              "      <th>142042</th>\n",
              "      <td>2013</td>\n",
              "      <td>3</td>\n",
              "      <td>7</td>\n",
              "      <td>959.0</td>\n",
              "      <td>1000</td>\n",
              "      <td>-1.0</td>\n",
              "      <td>1334.0</td>\n",
              "      <td>1334</td>\n",
              "      <td>0.0</td>\n",
              "      <td>DL</td>\n",
              "      <td>1765</td>\n",
              "      <td>N704X</td>\n",
              "      <td>JFK</td>\n",
              "      <td>SFO</td>\n",
              "      <td>357.0</td>\n",
              "      <td>2586</td>\n",
              "      <td>10</td>\n",
              "      <td>0</td>\n",
              "      <td>2013-03-07 10:00:00+00:00</td>\n",
              "    </tr>\n",
              "    <tr>\n",
              "      <th>142046</th>\n",
              "      <td>2013</td>\n",
              "      <td>3</td>\n",
              "      <td>7</td>\n",
              "      <td>1005.0</td>\n",
              "      <td>1004</td>\n",
              "      <td>1.0</td>\n",
              "      <td>1210.0</td>\n",
              "      <td>1220</td>\n",
              "      <td>-10.0</td>\n",
              "      <td>DL</td>\n",
              "      <td>2319</td>\n",
              "      <td>N349NW</td>\n",
              "      <td>LGA</td>\n",
              "      <td>MSP</td>\n",
              "      <td>153.0</td>\n",
              "      <td>1020</td>\n",
              "      <td>10</td>\n",
              "      <td>4</td>\n",
              "      <td>2013-03-07 10:00:00+00:00</td>\n",
              "    </tr>\n",
              "    <tr>\n",
              "      <th>142053</th>\n",
              "      <td>2013</td>\n",
              "      <td>3</td>\n",
              "      <td>7</td>\n",
              "      <td>1025.0</td>\n",
              "      <td>1029</td>\n",
              "      <td>-4.0</td>\n",
              "      <td>1250.0</td>\n",
              "      <td>1308</td>\n",
              "      <td>-18.0</td>\n",
              "      <td>DL</td>\n",
              "      <td>1529</td>\n",
              "      <td>N3732J</td>\n",
              "      <td>JFK</td>\n",
              "      <td>LAS</td>\n",
              "      <td>304.0</td>\n",
              "      <td>2248</td>\n",
              "      <td>10</td>\n",
              "      <td>29</td>\n",
              "      <td>2013-03-07 10:00:00+00:00</td>\n",
              "    </tr>\n",
              "    <tr>\n",
              "      <th>142058</th>\n",
              "      <td>2013</td>\n",
              "      <td>3</td>\n",
              "      <td>7</td>\n",
              "      <td>1027.0</td>\n",
              "      <td>1030</td>\n",
              "      <td>-3.0</td>\n",
              "      <td>1250.0</td>\n",
              "      <td>1248</td>\n",
              "      <td>2.0</td>\n",
              "      <td>DL</td>\n",
              "      <td>2343</td>\n",
              "      <td>N959DN</td>\n",
              "      <td>EWR</td>\n",
              "      <td>ATL</td>\n",
              "      <td>107.0</td>\n",
              "      <td>746</td>\n",
              "      <td>10</td>\n",
              "      <td>30</td>\n",
              "      <td>2013-03-07 10:00:00+00:00</td>\n",
              "    </tr>\n",
              "  </tbody>\n",
              "</table>\n",
              "<p>40000 rows × 19 columns</p>\n",
              "</div>"
            ],
            "text/plain": [
              "        year  month  day  ...  hour  minute                 time_hour\n",
              "0       2013      1    1  ...     5      15 2013-01-01 05:00:00+00:00\n",
              "1       2013      1    1  ...     5      29 2013-01-01 05:00:00+00:00\n",
              "4       2013      1    1  ...     6       0 2013-01-01 06:00:00+00:00\n",
              "5       2013      1    1  ...     5      58 2013-01-01 05:00:00+00:00\n",
              "12      2013      1    1  ...     6       0 2013-01-01 06:00:00+00:00\n",
              "...      ...    ...  ...  ...   ...     ...                       ...\n",
              "142034  2013      3    7  ...     9       0 2013-03-07 09:00:00+00:00\n",
              "142042  2013      3    7  ...    10       0 2013-03-07 10:00:00+00:00\n",
              "142046  2013      3    7  ...    10       4 2013-03-07 10:00:00+00:00\n",
              "142053  2013      3    7  ...    10      29 2013-03-07 10:00:00+00:00\n",
              "142058  2013      3    7  ...    10      30 2013-03-07 10:00:00+00:00\n",
              "\n",
              "[40000 rows x 19 columns]"
            ]
          },
          "metadata": {},
          "execution_count": 21
        }
      ]
    },
    {
      "cell_type": "code",
      "metadata": {
        "id": "lDJHA58TYeng",
        "colab": {
          "base_uri": "https://localhost:8080/",
          "height": 424
        },
        "outputId": "80c2567a-b046-47b4-9fef-b986ca18316a"
      },
      "source": [
        "# Extract the required columns: the carrier and the arrival delay\n",
        "# Create the required population data\n",
        "pop_data = tgt_records[['carrier', 'arr_delay']]\n",
        "pop_data"
      ],
      "execution_count": 22,
      "outputs": [
        {
          "output_type": "execute_result",
          "data": {
            "text/html": [
              "<div>\n",
              "<style scoped>\n",
              "    .dataframe tbody tr th:only-of-type {\n",
              "        vertical-align: middle;\n",
              "    }\n",
              "\n",
              "    .dataframe tbody tr th {\n",
              "        vertical-align: top;\n",
              "    }\n",
              "\n",
              "    .dataframe thead th {\n",
              "        text-align: right;\n",
              "    }\n",
              "</style>\n",
              "<table border=\"1\" class=\"dataframe\">\n",
              "  <thead>\n",
              "    <tr style=\"text-align: right;\">\n",
              "      <th></th>\n",
              "      <th>carrier</th>\n",
              "      <th>arr_delay</th>\n",
              "    </tr>\n",
              "  </thead>\n",
              "  <tbody>\n",
              "    <tr>\n",
              "      <th>0</th>\n",
              "      <td>UA</td>\n",
              "      <td>11.0</td>\n",
              "    </tr>\n",
              "    <tr>\n",
              "      <th>1</th>\n",
              "      <td>UA</td>\n",
              "      <td>20.0</td>\n",
              "    </tr>\n",
              "    <tr>\n",
              "      <th>4</th>\n",
              "      <td>DL</td>\n",
              "      <td>-25.0</td>\n",
              "    </tr>\n",
              "    <tr>\n",
              "      <th>5</th>\n",
              "      <td>UA</td>\n",
              "      <td>12.0</td>\n",
              "    </tr>\n",
              "    <tr>\n",
              "      <th>12</th>\n",
              "      <td>UA</td>\n",
              "      <td>7.0</td>\n",
              "    </tr>\n",
              "    <tr>\n",
              "      <th>...</th>\n",
              "      <td>...</td>\n",
              "      <td>...</td>\n",
              "    </tr>\n",
              "    <tr>\n",
              "      <th>142034</th>\n",
              "      <td>DL</td>\n",
              "      <td>40.0</td>\n",
              "    </tr>\n",
              "    <tr>\n",
              "      <th>142042</th>\n",
              "      <td>DL</td>\n",
              "      <td>0.0</td>\n",
              "    </tr>\n",
              "    <tr>\n",
              "      <th>142046</th>\n",
              "      <td>DL</td>\n",
              "      <td>-10.0</td>\n",
              "    </tr>\n",
              "    <tr>\n",
              "      <th>142053</th>\n",
              "      <td>DL</td>\n",
              "      <td>-18.0</td>\n",
              "    </tr>\n",
              "    <tr>\n",
              "      <th>142058</th>\n",
              "      <td>DL</td>\n",
              "      <td>2.0</td>\n",
              "    </tr>\n",
              "  </tbody>\n",
              "</table>\n",
              "<p>40000 rows × 2 columns</p>\n",
              "</div>"
            ],
            "text/plain": [
              "       carrier  arr_delay\n",
              "0           UA       11.0\n",
              "1           UA       20.0\n",
              "4           DL      -25.0\n",
              "5           UA       12.0\n",
              "12          UA        7.0\n",
              "...        ...        ...\n",
              "142034      DL       40.0\n",
              "142042      DL        0.0\n",
              "142046      DL      -10.0\n",
              "142053      DL      -18.0\n",
              "142058      DL        2.0\n",
              "\n",
              "[40000 rows x 2 columns]"
            ]
          },
          "metadata": {},
          "execution_count": 22
        }
      ]
    },
    {
      "cell_type": "code",
      "metadata": {
        "id": "sGvABvesYeng",
        "colab": {
          "base_uri": "https://localhost:8080/"
        },
        "outputId": "84289bf1-dca8-4465-8bf7-0f6a11f48c63"
      },
      "source": [
        "# Show that population contains 20,000 records of each carrier\n",
        "pop_data['carrier'].value_counts()"
      ],
      "execution_count": 23,
      "outputs": [
        {
          "output_type": "execute_result",
          "data": {
            "text/plain": [
              "DL    20000\n",
              "UA    20000\n",
              "Name: carrier, dtype: int64"
            ]
          },
          "metadata": {},
          "execution_count": 23
        }
      ]
    },
    {
      "cell_type": "markdown",
      "metadata": {
        "id": "ymJ7f7FoYenh"
      },
      "source": [
        "\n",
        "\n",
        "---\n",
        "\n"
      ]
    },
    {
      "cell_type": "markdown",
      "metadata": {
        "id": "sXmgrtFD0PpH"
      },
      "source": [
        "# Task 4:\n",
        "Create two new datasets (“dl” and “ua”) of 1000 observations each from the “pop_data” dataset only with data from the DL (Delta Airlines) for “dl” and only data from UA (United Airlines) for “ua” . Tip: Include a column called sample_id populated with number 1 for the first sample and 2 for the second sample"
      ]
    },
    {
      "cell_type": "markdown",
      "metadata": {
        "id": "RliZKeG_Yeni"
      },
      "source": [
        "Note: Filter out records which have empty values for arrival delay. This normalizes the sample to be used for processing."
      ]
    },
    {
      "cell_type": "code",
      "metadata": {
        "scrolled": true,
        "id": "tG3hC0_QYeni",
        "colab": {
          "base_uri": "https://localhost:8080/",
          "height": 300
        },
        "outputId": "0b46cc6f-01f7-4d0b-8322-fab7a83ecc30"
      },
      "source": [
        "# Create the DL dataset of a sample of 1000 records of Delta Airline flights\n",
        "dl = pop_data[(pop_data['carrier'] == 'DL') & ~pop_data['arr_delay'].isnull()].sample(1000)\n",
        "dl['sample_id'] = 1\n",
        "dl.describe()"
      ],
      "execution_count": 24,
      "outputs": [
        {
          "output_type": "execute_result",
          "data": {
            "text/html": [
              "<div>\n",
              "<style scoped>\n",
              "    .dataframe tbody tr th:only-of-type {\n",
              "        vertical-align: middle;\n",
              "    }\n",
              "\n",
              "    .dataframe tbody tr th {\n",
              "        vertical-align: top;\n",
              "    }\n",
              "\n",
              "    .dataframe thead th {\n",
              "        text-align: right;\n",
              "    }\n",
              "</style>\n",
              "<table border=\"1\" class=\"dataframe\">\n",
              "  <thead>\n",
              "    <tr style=\"text-align: right;\">\n",
              "      <th></th>\n",
              "      <th>arr_delay</th>\n",
              "      <th>sample_id</th>\n",
              "    </tr>\n",
              "  </thead>\n",
              "  <tbody>\n",
              "    <tr>\n",
              "      <th>count</th>\n",
              "      <td>1000.000000</td>\n",
              "      <td>1000.0</td>\n",
              "    </tr>\n",
              "    <tr>\n",
              "      <th>mean</th>\n",
              "      <td>-3.717000</td>\n",
              "      <td>1.0</td>\n",
              "    </tr>\n",
              "    <tr>\n",
              "      <th>std</th>\n",
              "      <td>30.079623</td>\n",
              "      <td>0.0</td>\n",
              "    </tr>\n",
              "    <tr>\n",
              "      <th>min</th>\n",
              "      <td>-65.000000</td>\n",
              "      <td>1.0</td>\n",
              "    </tr>\n",
              "    <tr>\n",
              "      <th>25%</th>\n",
              "      <td>-20.000000</td>\n",
              "      <td>1.0</td>\n",
              "    </tr>\n",
              "    <tr>\n",
              "      <th>50%</th>\n",
              "      <td>-9.500000</td>\n",
              "      <td>1.0</td>\n",
              "    </tr>\n",
              "    <tr>\n",
              "      <th>75%</th>\n",
              "      <td>4.000000</td>\n",
              "      <td>1.0</td>\n",
              "    </tr>\n",
              "    <tr>\n",
              "      <th>max</th>\n",
              "      <td>350.000000</td>\n",
              "      <td>1.0</td>\n",
              "    </tr>\n",
              "  </tbody>\n",
              "</table>\n",
              "</div>"
            ],
            "text/plain": [
              "         arr_delay  sample_id\n",
              "count  1000.000000     1000.0\n",
              "mean     -3.717000        1.0\n",
              "std      30.079623        0.0\n",
              "min     -65.000000        1.0\n",
              "25%     -20.000000        1.0\n",
              "50%      -9.500000        1.0\n",
              "75%       4.000000        1.0\n",
              "max     350.000000        1.0"
            ]
          },
          "metadata": {},
          "execution_count": 24
        }
      ]
    },
    {
      "cell_type": "code",
      "metadata": {
        "scrolled": true,
        "id": "GLKWuKG4Yeni",
        "colab": {
          "base_uri": "https://localhost:8080/",
          "height": 300
        },
        "outputId": "c2427555-7d98-4624-b6e4-77321781342a"
      },
      "source": [
        "# Create the UA dataset of a sample of 1000 records of United Airlines flights\n",
        "ua = pop_data[(pop_data['carrier'] == 'UA') & ~pop_data['arr_delay'].isnull()].sample(1000)\n",
        "ua['sample_id'] = 2\n",
        "ua.describe()"
      ],
      "execution_count": 25,
      "outputs": [
        {
          "output_type": "execute_result",
          "data": {
            "text/html": [
              "<div>\n",
              "<style scoped>\n",
              "    .dataframe tbody tr th:only-of-type {\n",
              "        vertical-align: middle;\n",
              "    }\n",
              "\n",
              "    .dataframe tbody tr th {\n",
              "        vertical-align: top;\n",
              "    }\n",
              "\n",
              "    .dataframe thead th {\n",
              "        text-align: right;\n",
              "    }\n",
              "</style>\n",
              "<table border=\"1\" class=\"dataframe\">\n",
              "  <thead>\n",
              "    <tr style=\"text-align: right;\">\n",
              "      <th></th>\n",
              "      <th>arr_delay</th>\n",
              "      <th>sample_id</th>\n",
              "    </tr>\n",
              "  </thead>\n",
              "  <tbody>\n",
              "    <tr>\n",
              "      <th>count</th>\n",
              "      <td>1000.000000</td>\n",
              "      <td>1000.0</td>\n",
              "    </tr>\n",
              "    <tr>\n",
              "      <th>mean</th>\n",
              "      <td>3.036000</td>\n",
              "      <td>2.0</td>\n",
              "    </tr>\n",
              "    <tr>\n",
              "      <th>std</th>\n",
              "      <td>35.215236</td>\n",
              "      <td>0.0</td>\n",
              "    </tr>\n",
              "    <tr>\n",
              "      <th>min</th>\n",
              "      <td>-67.000000</td>\n",
              "      <td>2.0</td>\n",
              "    </tr>\n",
              "    <tr>\n",
              "      <th>25%</th>\n",
              "      <td>-15.000000</td>\n",
              "      <td>2.0</td>\n",
              "    </tr>\n",
              "    <tr>\n",
              "      <th>50%</th>\n",
              "      <td>-5.000000</td>\n",
              "      <td>2.0</td>\n",
              "    </tr>\n",
              "    <tr>\n",
              "      <th>75%</th>\n",
              "      <td>10.000000</td>\n",
              "      <td>2.0</td>\n",
              "    </tr>\n",
              "    <tr>\n",
              "      <th>max</th>\n",
              "      <td>330.000000</td>\n",
              "      <td>2.0</td>\n",
              "    </tr>\n",
              "  </tbody>\n",
              "</table>\n",
              "</div>"
            ],
            "text/plain": [
              "         arr_delay  sample_id\n",
              "count  1000.000000     1000.0\n",
              "mean      3.036000        2.0\n",
              "std      35.215236        0.0\n",
              "min     -67.000000        2.0\n",
              "25%     -15.000000        2.0\n",
              "50%      -5.000000        2.0\n",
              "75%      10.000000        2.0\n",
              "max     330.000000        2.0"
            ]
          },
          "metadata": {},
          "execution_count": 25
        }
      ]
    },
    {
      "cell_type": "markdown",
      "metadata": {
        "id": "Wr7K-tm6Yeni"
      },
      "source": [
        "\n",
        "\n",
        "---\n",
        "\n"
      ]
    },
    {
      "cell_type": "markdown",
      "metadata": {
        "id": "kzpeYfyA0j_6"
      },
      "source": [
        "# Task 5:\n",
        "Create a new dataset (samples) containing the data of the 2 samples created in the previous item to be used in future analysis."
      ]
    },
    {
      "cell_type": "code",
      "metadata": {
        "id": "Bq-2AUemYenj",
        "colab": {
          "base_uri": "https://localhost:8080/",
          "height": 424
        },
        "outputId": "0a5b9d74-7679-4b96-bc1b-f815f5cb5dbd"
      },
      "source": [
        "# Merge the two datasets into a single dataset \"samples\"\n",
        "samples = pd.concat([dl, ua])\n",
        "samples"
      ],
      "execution_count": 26,
      "outputs": [
        {
          "output_type": "execute_result",
          "data": {
            "text/html": [
              "<div>\n",
              "<style scoped>\n",
              "    .dataframe tbody tr th:only-of-type {\n",
              "        vertical-align: middle;\n",
              "    }\n",
              "\n",
              "    .dataframe tbody tr th {\n",
              "        vertical-align: top;\n",
              "    }\n",
              "\n",
              "    .dataframe thead th {\n",
              "        text-align: right;\n",
              "    }\n",
              "</style>\n",
              "<table border=\"1\" class=\"dataframe\">\n",
              "  <thead>\n",
              "    <tr style=\"text-align: right;\">\n",
              "      <th></th>\n",
              "      <th>carrier</th>\n",
              "      <th>arr_delay</th>\n",
              "      <th>sample_id</th>\n",
              "    </tr>\n",
              "  </thead>\n",
              "  <tbody>\n",
              "    <tr>\n",
              "      <th>94229</th>\n",
              "      <td>DL</td>\n",
              "      <td>-22.0</td>\n",
              "      <td>1</td>\n",
              "    </tr>\n",
              "    <tr>\n",
              "      <th>87246</th>\n",
              "      <td>DL</td>\n",
              "      <td>-19.0</td>\n",
              "      <td>1</td>\n",
              "    </tr>\n",
              "    <tr>\n",
              "      <th>115185</th>\n",
              "      <td>DL</td>\n",
              "      <td>12.0</td>\n",
              "      <td>1</td>\n",
              "    </tr>\n",
              "    <tr>\n",
              "      <th>2679</th>\n",
              "      <td>DL</td>\n",
              "      <td>28.0</td>\n",
              "      <td>1</td>\n",
              "    </tr>\n",
              "    <tr>\n",
              "      <th>88466</th>\n",
              "      <td>DL</td>\n",
              "      <td>5.0</td>\n",
              "      <td>1</td>\n",
              "    </tr>\n",
              "    <tr>\n",
              "      <th>...</th>\n",
              "      <td>...</td>\n",
              "      <td>...</td>\n",
              "      <td>...</td>\n",
              "    </tr>\n",
              "    <tr>\n",
              "      <th>110033</th>\n",
              "      <td>UA</td>\n",
              "      <td>16.0</td>\n",
              "      <td>2</td>\n",
              "    </tr>\n",
              "    <tr>\n",
              "      <th>35961</th>\n",
              "      <td>UA</td>\n",
              "      <td>35.0</td>\n",
              "      <td>2</td>\n",
              "    </tr>\n",
              "    <tr>\n",
              "      <th>46926</th>\n",
              "      <td>UA</td>\n",
              "      <td>-17.0</td>\n",
              "      <td>2</td>\n",
              "    </tr>\n",
              "    <tr>\n",
              "      <th>46624</th>\n",
              "      <td>UA</td>\n",
              "      <td>1.0</td>\n",
              "      <td>2</td>\n",
              "    </tr>\n",
              "    <tr>\n",
              "      <th>85637</th>\n",
              "      <td>UA</td>\n",
              "      <td>8.0</td>\n",
              "      <td>2</td>\n",
              "    </tr>\n",
              "  </tbody>\n",
              "</table>\n",
              "<p>2000 rows × 3 columns</p>\n",
              "</div>"
            ],
            "text/plain": [
              "       carrier  arr_delay  sample_id\n",
              "94229       DL      -22.0          1\n",
              "87246       DL      -19.0          1\n",
              "115185      DL       12.0          1\n",
              "2679        DL       28.0          1\n",
              "88466       DL        5.0          1\n",
              "...        ...        ...        ...\n",
              "110033      UA       16.0          2\n",
              "35961       UA       35.0          2\n",
              "46926       UA      -17.0          2\n",
              "46624       UA        1.0          2\n",
              "85637       UA        8.0          2\n",
              "\n",
              "[2000 rows x 3 columns]"
            ]
          },
          "metadata": {},
          "execution_count": 26
        }
      ]
    },
    {
      "cell_type": "markdown",
      "metadata": {
        "id": "xeY41GC4Yenj"
      },
      "source": [
        "\n",
        "\n",
        "---\n",
        "\n"
      ]
    },
    {
      "cell_type": "markdown",
      "metadata": {
        "id": "wa_tgAxB0r4c"
      },
      "source": [
        "# Task 6:\n",
        "For each sample (“dl” and “ua”) calculate de standard error and the mean."
      ]
    },
    {
      "cell_type": "code",
      "metadata": {
        "id": "uugCefrBYenj",
        "colab": {
          "base_uri": "https://localhost:8080/"
        },
        "outputId": "3c1e9d69-2622-46bc-a75c-b168a7b8c267"
      },
      "source": [
        "# Calculate the standard error for DL flights\n",
        "dl_stderr = (dl['arr_delay'].std()) / (len(dl)**0.5)\n",
        "dl_stderr"
      ],
      "execution_count": 27,
      "outputs": [
        {
          "output_type": "execute_result",
          "data": {
            "text/plain": [
              "0.9512011851836051"
            ]
          },
          "metadata": {},
          "execution_count": 27
        }
      ]
    },
    {
      "cell_type": "code",
      "metadata": {
        "id": "kZZqcDh7Yenk",
        "colab": {
          "base_uri": "https://localhost:8080/"
        },
        "outputId": "03b02fa7-4f0b-4d27-a9fb-dd1cc662e179"
      },
      "source": [
        "# Calculate the mean for DL flights\n",
        "dl_mean = dl['arr_delay'].mean()\n",
        "dl_mean"
      ],
      "execution_count": 28,
      "outputs": [
        {
          "output_type": "execute_result",
          "data": {
            "text/plain": [
              "-3.717"
            ]
          },
          "metadata": {},
          "execution_count": 28
        }
      ]
    },
    {
      "cell_type": "code",
      "metadata": {
        "scrolled": false,
        "id": "xs2fvESZYenk",
        "colab": {
          "base_uri": "https://localhost:8080/"
        },
        "outputId": "21803d74-cdb4-4f40-8d70-293850fe783e"
      },
      "source": [
        "# Calculate the standard error for UA flights\n",
        "ua_stderr = (ua['arr_delay'].std()) / (len(ua)**0.5)\n",
        "ua_stderr"
      ],
      "execution_count": 29,
      "outputs": [
        {
          "output_type": "execute_result",
          "data": {
            "text/plain": [
              "1.1136035276600076"
            ]
          },
          "metadata": {},
          "execution_count": 29
        }
      ]
    },
    {
      "cell_type": "code",
      "metadata": {
        "id": "8ynZc8IdYenl",
        "colab": {
          "base_uri": "https://localhost:8080/"
        },
        "outputId": "1ae3d15d-240d-43d8-8da8-8ea82d60eec8"
      },
      "source": [
        "# Calculate the mean for UA flights\n",
        "ua_mean = ua['arr_delay'].mean()\n",
        "ua_mean"
      ],
      "execution_count": 30,
      "outputs": [
        {
          "output_type": "execute_result",
          "data": {
            "text/plain": [
              "3.036"
            ]
          },
          "metadata": {},
          "execution_count": 30
        }
      ]
    },
    {
      "cell_type": "markdown",
      "metadata": {
        "id": "HZjid43XYenl"
      },
      "source": [
        "\n",
        "\n",
        "---\n",
        "\n"
      ]
    },
    {
      "cell_type": "markdown",
      "metadata": {
        "id": "_iY9YWR50ysy"
      },
      "source": [
        "# Task 7:\n",
        "For each mean calculated before we need to define the “confidence intervals” in this case 95% confidence interval. It means calculate lower and upper values."
      ]
    },
    {
      "cell_type": "markdown",
      "metadata": {
        "id": "wuoQHUZYYenl"
      },
      "source": [
        "Note: since confidence interval required is 95%, the corresponding value for z-interval is 1.96"
      ]
    },
    {
      "cell_type": "code",
      "metadata": {
        "scrolled": true,
        "id": "iy5Fle5jYenl",
        "colab": {
          "base_uri": "https://localhost:8080/"
        },
        "outputId": "6c6a3cc3-6062-40a4-a9fb-9d237b017995"
      },
      "source": [
        "# Calculate the lower and upper values for DL\n",
        "dl_lower = dl_mean - 1.96 * dl_stderr\n",
        "dl_upper = dl_mean + 1.96 * dl_stderr\n",
        "(dl_lower, dl_upper)"
      ],
      "execution_count": 31,
      "outputs": [
        {
          "output_type": "execute_result",
          "data": {
            "text/plain": [
              "(-5.581354322959866, -1.852645677040134)"
            ]
          },
          "metadata": {},
          "execution_count": 31
        }
      ]
    },
    {
      "cell_type": "code",
      "metadata": {
        "id": "SO0T8DTfYenl",
        "colab": {
          "base_uri": "https://localhost:8080/"
        },
        "outputId": "45040766-e26a-49d7-e0ed-17eb89c214ca"
      },
      "source": [
        "# Calculate the lower and upper values for UA\n",
        "ua_lower = ua_mean - 1.96 * ua_stderr\n",
        "ua_upper = ua_mean + 1.96 * ua_stderr\n",
        "(ua_lower, ua_upper)"
      ],
      "execution_count": 32,
      "outputs": [
        {
          "output_type": "execute_result",
          "data": {
            "text/plain": [
              "(0.8533370857863853, 5.218662914213615)"
            ]
          },
          "metadata": {},
          "execution_count": 32
        }
      ]
    },
    {
      "cell_type": "markdown",
      "metadata": {
        "id": "8qaowTEJYenl"
      },
      "source": [
        "\n",
        "\n",
        "---\n",
        "\n"
      ]
    },
    {
      "cell_type": "markdown",
      "metadata": {
        "id": "w-mtxXEn03z9"
      },
      "source": [
        "# Task 8:\n",
        "After these set of previous calculations it was requested that you take the T-TEST concept and apply it on your 2 groups of data (“means”) to let your team knows if Delta Airlines (DL) flights are delayed more than United Airlines (UA) flights ?"
      ]
    },
    {
      "cell_type": "code",
      "metadata": {
        "id": "QHMfwcIvYenn",
        "colab": {
          "base_uri": "https://localhost:8080/"
        },
        "outputId": "49bff40a-1038-4548-afd2-a889f37aa52b"
      },
      "source": [
        "# Use the TTest function from scipy\n",
        "from scipy import stats\n",
        "stats.ttest_ind(dl['arr_delay'], ua['arr_delay'], equal_var=False)"
      ],
      "execution_count": 33,
      "outputs": [
        {
          "output_type": "execute_result",
          "data": {
            "text/plain": [
              "Ttest_indResult(statistic=-4.61098360769766, pvalue=4.267667497500396e-06)"
            ]
          },
          "metadata": {},
          "execution_count": 33
        }
      ]
    },
    {
      "cell_type": "markdown",
      "metadata": {
        "id": "9Bvm6mNyYeno"
      },
      "source": [
        "\n",
        "\n",
        "---\n",
        "\n"
      ]
    },
    {
      "cell_type": "markdown",
      "metadata": {
        "id": "6k1LH9JFYeno"
      },
      "source": [
        "# Analysis of Results\n",
        "It is found that United Airlines are more delayed than Delta Airlines based on the lower and upper values obtained from Task 7. Furthermore the results of the T-Test shows that the P-value is very small. This means that we can accept that the results are valid."
      ]
    }
  ]
}