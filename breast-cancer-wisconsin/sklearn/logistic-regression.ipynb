{
  "cells": [
    {
      "cell_type": "code",
      "execution_count": 1,
      "id": "866ad68f-92f7-4afe-b755-0ffbe3fc28de",
      "metadata": {
        "id": "866ad68f-92f7-4afe-b755-0ffbe3fc28de"
      },
      "outputs": [],
      "source": [
        "import pandas as pd"
      ]
    },
    {
      "cell_type": "code",
      "source": [
        "dataset = pd.read_csv('data.csv')\n",
        "dataset.shape"
      ],
      "metadata": {
        "id": "vg3c7PbYwTY7",
        "outputId": "b103818f-4fd3-41a0-edd2-b3ec691cec55",
        "colab": {
          "base_uri": "https://localhost:8080/"
        }
      },
      "id": "vg3c7PbYwTY7",
      "execution_count": 2,
      "outputs": [
        {
          "output_type": "execute_result",
          "data": {
            "text/plain": [
              "(569, 33)"
            ]
          },
          "metadata": {},
          "execution_count": 2
        }
      ]
    }
  ],
  "metadata": {
    "kernelspec": {
      "display_name": "Python 3 (ipykernel)",
      "language": "python",
      "name": "python3"
    },
    "language_info": {
      "codemirror_mode": {
        "name": "ipython",
        "version": 3
      },
      "file_extension": ".py",
      "mimetype": "text/x-python",
      "name": "python",
      "nbconvert_exporter": "python",
      "pygments_lexer": "ipython3",
      "version": "3.9.7"
    },
    "colab": {
      "name": "logistic-regression.ipynb",
      "provenance": []
    }
  },
  "nbformat": 4,
  "nbformat_minor": 5
}