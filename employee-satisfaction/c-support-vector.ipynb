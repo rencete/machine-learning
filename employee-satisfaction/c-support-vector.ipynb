{
 "cells": [
  {
   "cell_type": "markdown",
   "metadata": {
    "id": "TXsTi49n6hQc"
   },
   "source": [
    "# Exercise 4 Details"
   ]
  },
  {
   "cell_type": "markdown",
   "metadata": {
    "id": "QlJlRHCI6lm8"
   },
   "source": [
    "Author: Terence Yu\n",
    "\n",
    "Course and Section: AIDI-1002-01\n",
    "\n",
    "Dataset Source: https://www.kaggle.com/mohamedharris/employee-satisfaction-index-dataset"
   ]
  },
  {
   "cell_type": "markdown",
   "metadata": {
    "id": "gyYGj6eT_gJ8"
   },
   "source": [
    "# Business Problem Description"
   ]
  },
  {
   "cell_type": "markdown",
   "metadata": {
    "id": "hSg4SztT_iPx"
   },
   "source": [
    "In any company, employee turnover is something that HR wants to reduce as much as possible. This is because it costs the company money to find, hire, and train a new employee. There is also a loss in productivity between a new employee and a tenured employee due to experience in doing the job. One of the main determining factors of whether an employee will leave the company is employment satisfaction. As such a method of determining employment satisfaction is a great tool to identify employees at risk of leaving and will give HR time to talk with the person and take steps to improve their perception of their jobs."
   ]
  },
  {
   "cell_type": "markdown",
   "metadata": {
    "id": "1PS1WGm9AmZH"
   },
   "source": [
    "# Solution"
   ]
  },
  {
   "cell_type": "markdown",
   "metadata": {
    "id": "T0aPw2_5An7I"
   },
   "source": [
    "## Load the Dataset"
   ]
  },
  {
   "cell_type": "code",
   "execution_count": 1,
   "metadata": {
    "id": "dcJfr3I9AyxF"
   },
   "outputs": [],
   "source": [
    "import pandas as pd\n",
    "import matplotlib.pyplot as plt\n",
    "import seaborn as sns\n",
    "import numpy as np\n",
    "from sklearn.preprocessing import OneHotEncoder\n",
    "from sklearn.preprocessing import StandardScaler\n",
    "from sklearn.model_selection import train_test_split\n",
    "from sklearn.svm import SVC\n",
    "from sklearn.metrics import classification_report\n",
    "from sklearn.metrics import confusion_matrix\n",
    "from sklearn.metrics import plot_confusion_matrix\n",
    "from sklearn.metrics import accuracy_score\n",
    "from sklearn.metrics import precision_score\n",
    "from sklearn.metrics import recall_score\n",
    "from sklearn.metrics import f1_score\n",
    "from sklearn.model_selection import cross_val_score\n",
    "from sklearn.model_selection import KFold\n",
    "from sklearn.model_selection import GridSearchCV"
   ]
  },
  {
   "cell_type": "code",
   "execution_count": 2,
   "metadata": {
    "id": "OZGv78LW6J8o"
   },
   "outputs": [],
   "source": [
    "dataset = pd.read_csv('Employee Satisfaction Index.csv', index_col=0)"
   ]
  },
  {
   "cell_type": "markdown",
   "metadata": {
    "id": "2C3WWENNA5Tn"
   },
   "source": [
    "## Exploratory Data Analysis"
   ]
  },
  {
   "cell_type": "markdown",
   "metadata": {
    "id": "hRVWnnjKA8ne"
   },
   "source": [
    "### Data Analysis"
   ]
  },
  {
   "cell_type": "code",
   "execution_count": 3,
   "metadata": {
    "colab": {
     "base_uri": "https://localhost:8080/"
    },
    "id": "zT4NFnZZBYQv",
    "outputId": "80988442-6373-41e7-ed48-37152d521ede"
   },
   "outputs": [
    {
     "data": {
      "text/plain": [
       "(500, 13)"
      ]
     },
     "execution_count": 3,
     "metadata": {},
     "output_type": "execute_result"
    }
   ],
   "source": [
    "dataset.shape"
   ]
  },
  {
   "cell_type": "markdown",
   "metadata": {
    "id": "t47RhwVPBgd8"
   },
   "source": [
    "Dataset contains 918 records with 12 columns"
   ]
  },
  {
   "cell_type": "code",
   "execution_count": 4,
   "metadata": {
    "colab": {
     "base_uri": "https://localhost:8080/"
    },
    "id": "o2rVp87GBvw5",
    "outputId": "4b6567b2-66f2-4363-a1ba-07a7fee44a71"
   },
   "outputs": [
    {
     "data": {
      "text/plain": [
       "Index(['emp_id', 'age', 'Dept', 'location', 'education', 'recruitment_type',\n",
       "       'job_level', 'rating', 'onsite', 'awards', 'certifications', 'salary',\n",
       "       'satisfied'],\n",
       "      dtype='object')"
      ]
     },
     "execution_count": 4,
     "metadata": {},
     "output_type": "execute_result"
    }
   ],
   "source": [
    "dataset.columns"
   ]
  },
  {
   "cell_type": "markdown",
   "metadata": {
    "id": "nqNZY0uEBx93"
   },
   "source": [
    "Independent Variables\n",
    "\n",
    "\n",
    "* emp_id - unique identifier for employee\n",
    "* age - age of employee\n",
    "* Dept - department that the employee is working for\n",
    "* location - employee location\n",
    "* education - employee education level\n",
    "* recruitment_type - mode of recruitment\n",
    "* job_level - job level of employee (from 1 to 5)\n",
    "* rating - previous year job rating of employee (1 to 5)\n",
    "* onsite - whether or not employee has ever been onsite at location\n",
    "* awards - no. of awards\n",
    "* certifications - is the employee certified\n",
    "* salary - employee net salary\n",
    "\n",
    "Dependent Variable\n",
    "* satisfied - 1 if employee is satisfied; 0 otherwise\n",
    "\n"
   ]
  },
  {
   "cell_type": "code",
   "execution_count": 5,
   "metadata": {
    "colab": {
     "base_uri": "https://localhost:8080/",
     "height": 270
    },
    "id": "suslTGVmDFzy",
    "outputId": "91bcf65d-69d8-401d-dd3c-5ee0f213a457"
   },
   "outputs": [
    {
     "data": {
      "text/html": [
       "<div>\n",
       "<style scoped>\n",
       "    .dataframe tbody tr th:only-of-type {\n",
       "        vertical-align: middle;\n",
       "    }\n",
       "\n",
       "    .dataframe tbody tr th {\n",
       "        vertical-align: top;\n",
       "    }\n",
       "\n",
       "    .dataframe thead th {\n",
       "        text-align: right;\n",
       "    }\n",
       "</style>\n",
       "<table border=\"1\" class=\"dataframe\">\n",
       "  <thead>\n",
       "    <tr style=\"text-align: right;\">\n",
       "      <th></th>\n",
       "      <th>emp_id</th>\n",
       "      <th>age</th>\n",
       "      <th>Dept</th>\n",
       "      <th>location</th>\n",
       "      <th>education</th>\n",
       "      <th>recruitment_type</th>\n",
       "      <th>job_level</th>\n",
       "      <th>rating</th>\n",
       "      <th>onsite</th>\n",
       "      <th>awards</th>\n",
       "      <th>certifications</th>\n",
       "      <th>salary</th>\n",
       "      <th>satisfied</th>\n",
       "    </tr>\n",
       "  </thead>\n",
       "  <tbody>\n",
       "    <tr>\n",
       "      <th>0</th>\n",
       "      <td>HR8270</td>\n",
       "      <td>28</td>\n",
       "      <td>HR</td>\n",
       "      <td>Suburb</td>\n",
       "      <td>PG</td>\n",
       "      <td>Referral</td>\n",
       "      <td>5</td>\n",
       "      <td>2</td>\n",
       "      <td>0</td>\n",
       "      <td>1</td>\n",
       "      <td>0</td>\n",
       "      <td>86750</td>\n",
       "      <td>1</td>\n",
       "    </tr>\n",
       "    <tr>\n",
       "      <th>1</th>\n",
       "      <td>TECH1860</td>\n",
       "      <td>50</td>\n",
       "      <td>Technology</td>\n",
       "      <td>Suburb</td>\n",
       "      <td>PG</td>\n",
       "      <td>Walk-in</td>\n",
       "      <td>3</td>\n",
       "      <td>5</td>\n",
       "      <td>1</td>\n",
       "      <td>2</td>\n",
       "      <td>1</td>\n",
       "      <td>42419</td>\n",
       "      <td>0</td>\n",
       "    </tr>\n",
       "    <tr>\n",
       "      <th>2</th>\n",
       "      <td>TECH6390</td>\n",
       "      <td>43</td>\n",
       "      <td>Technology</td>\n",
       "      <td>Suburb</td>\n",
       "      <td>UG</td>\n",
       "      <td>Referral</td>\n",
       "      <td>4</td>\n",
       "      <td>1</td>\n",
       "      <td>0</td>\n",
       "      <td>2</td>\n",
       "      <td>0</td>\n",
       "      <td>65715</td>\n",
       "      <td>0</td>\n",
       "    </tr>\n",
       "    <tr>\n",
       "      <th>3</th>\n",
       "      <td>SAL6191</td>\n",
       "      <td>44</td>\n",
       "      <td>Sales</td>\n",
       "      <td>City</td>\n",
       "      <td>PG</td>\n",
       "      <td>On-Campus</td>\n",
       "      <td>2</td>\n",
       "      <td>3</td>\n",
       "      <td>1</td>\n",
       "      <td>0</td>\n",
       "      <td>0</td>\n",
       "      <td>29805</td>\n",
       "      <td>1</td>\n",
       "    </tr>\n",
       "    <tr>\n",
       "      <th>4</th>\n",
       "      <td>HR6734</td>\n",
       "      <td>33</td>\n",
       "      <td>HR</td>\n",
       "      <td>City</td>\n",
       "      <td>UG</td>\n",
       "      <td>Recruitment Agency</td>\n",
       "      <td>2</td>\n",
       "      <td>1</td>\n",
       "      <td>0</td>\n",
       "      <td>5</td>\n",
       "      <td>0</td>\n",
       "      <td>29805</td>\n",
       "      <td>1</td>\n",
       "    </tr>\n",
       "  </tbody>\n",
       "</table>\n",
       "</div>"
      ],
      "text/plain": [
       "     emp_id  age        Dept location education    recruitment_type  \\\n",
       "0    HR8270   28          HR   Suburb        PG            Referral   \n",
       "1  TECH1860   50  Technology   Suburb        PG             Walk-in   \n",
       "2  TECH6390   43  Technology   Suburb        UG            Referral   \n",
       "3   SAL6191   44       Sales     City        PG           On-Campus   \n",
       "4    HR6734   33          HR     City        UG  Recruitment Agency   \n",
       "\n",
       "   job_level  rating  onsite  awards  certifications  salary  satisfied  \n",
       "0          5       2       0       1               0   86750          1  \n",
       "1          3       5       1       2               1   42419          0  \n",
       "2          4       1       0       2               0   65715          0  \n",
       "3          2       3       1       0               0   29805          1  \n",
       "4          2       1       0       5               0   29805          1  "
      ]
     },
     "execution_count": 5,
     "metadata": {},
     "output_type": "execute_result"
    }
   ],
   "source": [
    "dataset.head()"
   ]
  },
  {
   "cell_type": "code",
   "execution_count": 6,
   "metadata": {
    "colab": {
     "base_uri": "https://localhost:8080/",
     "height": 270
    },
    "id": "tBJ5qWadDjwS",
    "outputId": "16ce6481-823e-48c5-9073-4ed7aa32aedf"
   },
   "outputs": [
    {
     "data": {
      "text/html": [
       "<div>\n",
       "<style scoped>\n",
       "    .dataframe tbody tr th:only-of-type {\n",
       "        vertical-align: middle;\n",
       "    }\n",
       "\n",
       "    .dataframe tbody tr th {\n",
       "        vertical-align: top;\n",
       "    }\n",
       "\n",
       "    .dataframe thead th {\n",
       "        text-align: right;\n",
       "    }\n",
       "</style>\n",
       "<table border=\"1\" class=\"dataframe\">\n",
       "  <thead>\n",
       "    <tr style=\"text-align: right;\">\n",
       "      <th></th>\n",
       "      <th>emp_id</th>\n",
       "      <th>age</th>\n",
       "      <th>Dept</th>\n",
       "      <th>location</th>\n",
       "      <th>education</th>\n",
       "      <th>recruitment_type</th>\n",
       "      <th>job_level</th>\n",
       "      <th>rating</th>\n",
       "      <th>onsite</th>\n",
       "      <th>awards</th>\n",
       "      <th>certifications</th>\n",
       "      <th>salary</th>\n",
       "      <th>satisfied</th>\n",
       "    </tr>\n",
       "  </thead>\n",
       "  <tbody>\n",
       "    <tr>\n",
       "      <th>495</th>\n",
       "      <td>HR5330</td>\n",
       "      <td>49</td>\n",
       "      <td>HR</td>\n",
       "      <td>Suburb</td>\n",
       "      <td>PG</td>\n",
       "      <td>On-Campus</td>\n",
       "      <td>2</td>\n",
       "      <td>5</td>\n",
       "      <td>0</td>\n",
       "      <td>6</td>\n",
       "      <td>0</td>\n",
       "      <td>29805</td>\n",
       "      <td>1</td>\n",
       "    </tr>\n",
       "    <tr>\n",
       "      <th>496</th>\n",
       "      <td>TECH9010</td>\n",
       "      <td>24</td>\n",
       "      <td>Technology</td>\n",
       "      <td>Suburb</td>\n",
       "      <td>UG</td>\n",
       "      <td>Referral</td>\n",
       "      <td>2</td>\n",
       "      <td>4</td>\n",
       "      <td>0</td>\n",
       "      <td>2</td>\n",
       "      <td>0</td>\n",
       "      <td>29805</td>\n",
       "      <td>0</td>\n",
       "    </tr>\n",
       "    <tr>\n",
       "      <th>497</th>\n",
       "      <td>MKT7801</td>\n",
       "      <td>34</td>\n",
       "      <td>Marketing</td>\n",
       "      <td>City</td>\n",
       "      <td>PG</td>\n",
       "      <td>On-Campus</td>\n",
       "      <td>1</td>\n",
       "      <td>3</td>\n",
       "      <td>0</td>\n",
       "      <td>2</td>\n",
       "      <td>0</td>\n",
       "      <td>24076</td>\n",
       "      <td>1</td>\n",
       "    </tr>\n",
       "    <tr>\n",
       "      <th>498</th>\n",
       "      <td>TECH5846</td>\n",
       "      <td>26</td>\n",
       "      <td>Technology</td>\n",
       "      <td>City</td>\n",
       "      <td>UG</td>\n",
       "      <td>On-Campus</td>\n",
       "      <td>2</td>\n",
       "      <td>1</td>\n",
       "      <td>1</td>\n",
       "      <td>1</td>\n",
       "      <td>1</td>\n",
       "      <td>29805</td>\n",
       "      <td>0</td>\n",
       "    </tr>\n",
       "    <tr>\n",
       "      <th>499</th>\n",
       "      <td>TECH7731</td>\n",
       "      <td>26</td>\n",
       "      <td>Technology</td>\n",
       "      <td>City</td>\n",
       "      <td>UG</td>\n",
       "      <td>Recruitment Agency</td>\n",
       "      <td>3</td>\n",
       "      <td>4</td>\n",
       "      <td>0</td>\n",
       "      <td>3</td>\n",
       "      <td>0</td>\n",
       "      <td>42419</td>\n",
       "      <td>0</td>\n",
       "    </tr>\n",
       "  </tbody>\n",
       "</table>\n",
       "</div>"
      ],
      "text/plain": [
       "       emp_id  age        Dept location education    recruitment_type  \\\n",
       "495    HR5330   49          HR   Suburb        PG           On-Campus   \n",
       "496  TECH9010   24  Technology   Suburb        UG            Referral   \n",
       "497   MKT7801   34   Marketing     City        PG           On-Campus   \n",
       "498  TECH5846   26  Technology     City        UG           On-Campus   \n",
       "499  TECH7731   26  Technology     City        UG  Recruitment Agency   \n",
       "\n",
       "     job_level  rating  onsite  awards  certifications  salary  satisfied  \n",
       "495          2       5       0       6               0   29805          1  \n",
       "496          2       4       0       2               0   29805          0  \n",
       "497          1       3       0       2               0   24076          1  \n",
       "498          2       1       1       1               1   29805          0  \n",
       "499          3       4       0       3               0   42419          0  "
      ]
     },
     "execution_count": 6,
     "metadata": {},
     "output_type": "execute_result"
    }
   ],
   "source": [
    "dataset.tail()"
   ]
  },
  {
   "cell_type": "code",
   "execution_count": 7,
   "metadata": {
    "colab": {
     "base_uri": "https://localhost:8080/"
    },
    "id": "MFbu498kDI6-",
    "outputId": "578f362a-80f7-4d43-bea4-b564c2479d3a"
   },
   "outputs": [
    {
     "name": "stdout",
     "output_type": "stream",
     "text": [
      "<class 'pandas.core.frame.DataFrame'>\n",
      "Int64Index: 500 entries, 0 to 499\n",
      "Data columns (total 13 columns):\n",
      " #   Column            Non-Null Count  Dtype \n",
      "---  ------            --------------  ----- \n",
      " 0   emp_id            500 non-null    object\n",
      " 1   age               500 non-null    int64 \n",
      " 2   Dept              500 non-null    object\n",
      " 3   location          500 non-null    object\n",
      " 4   education         500 non-null    object\n",
      " 5   recruitment_type  500 non-null    object\n",
      " 6   job_level         500 non-null    int64 \n",
      " 7   rating            500 non-null    int64 \n",
      " 8   onsite            500 non-null    int64 \n",
      " 9   awards            500 non-null    int64 \n",
      " 10  certifications    500 non-null    int64 \n",
      " 11  salary            500 non-null    int64 \n",
      " 12  satisfied         500 non-null    int64 \n",
      "dtypes: int64(8), object(5)\n",
      "memory usage: 54.7+ KB\n"
     ]
    }
   ],
   "source": [
    "dataset.info()"
   ]
  },
  {
   "cell_type": "markdown",
   "metadata": {
    "id": "7YXpUpzkDJjY"
   },
   "source": [
    "Above cells shows sample data of the dataset for initial analysis. Result shows that there are non-numerical columns (Categorical) such as emp_id, Dept, location, education, and recruitment_type. Also, that all columns are populate with no null values."
   ]
  },
  {
   "cell_type": "code",
   "execution_count": 8,
   "metadata": {
    "colab": {
     "base_uri": "https://localhost:8080/"
    },
    "id": "tIbAhqDWEoo1",
    "outputId": "09c71ee8-cce0-44e2-d74c-5e54d461f00d"
   },
   "outputs": [
    {
     "data": {
      "text/plain": [
       "emp_id              0\n",
       "age                 0\n",
       "Dept                0\n",
       "location            0\n",
       "education           0\n",
       "recruitment_type    0\n",
       "job_level           0\n",
       "rating              0\n",
       "onsite              0\n",
       "awards              0\n",
       "certifications      0\n",
       "salary              0\n",
       "satisfied           0\n",
       "dtype: int64"
      ]
     },
     "execution_count": 8,
     "metadata": {},
     "output_type": "execute_result"
    }
   ],
   "source": [
    "dataset.isnull().sum()"
   ]
  },
  {
   "cell_type": "markdown",
   "metadata": {
    "id": "YG9KBPELEoGg"
   },
   "source": [
    "Verified that there are no null column values."
   ]
  },
  {
   "cell_type": "code",
   "execution_count": 9,
   "metadata": {
    "colab": {
     "base_uri": "https://localhost:8080/",
     "height": 364
    },
    "id": "8a29TkfKD_gM",
    "outputId": "d5e44f43-914c-42d7-dd13-7b887b888152"
   },
   "outputs": [
    {
     "data": {
      "text/html": [
       "<div>\n",
       "<style scoped>\n",
       "    .dataframe tbody tr th:only-of-type {\n",
       "        vertical-align: middle;\n",
       "    }\n",
       "\n",
       "    .dataframe tbody tr th {\n",
       "        vertical-align: top;\n",
       "    }\n",
       "\n",
       "    .dataframe thead th {\n",
       "        text-align: right;\n",
       "    }\n",
       "</style>\n",
       "<table border=\"1\" class=\"dataframe\">\n",
       "  <thead>\n",
       "    <tr style=\"text-align: right;\">\n",
       "      <th></th>\n",
       "      <th>age</th>\n",
       "      <th>job_level</th>\n",
       "      <th>rating</th>\n",
       "      <th>onsite</th>\n",
       "      <th>awards</th>\n",
       "      <th>certifications</th>\n",
       "      <th>salary</th>\n",
       "      <th>satisfied</th>\n",
       "    </tr>\n",
       "  </thead>\n",
       "  <tbody>\n",
       "    <tr>\n",
       "      <th>count</th>\n",
       "      <td>500.000000</td>\n",
       "      <td>500.000000</td>\n",
       "      <td>500.000000</td>\n",
       "      <td>500.000000</td>\n",
       "      <td>500.000000</td>\n",
       "      <td>500.000000</td>\n",
       "      <td>500.000000</td>\n",
       "      <td>500.000000</td>\n",
       "    </tr>\n",
       "    <tr>\n",
       "      <th>mean</th>\n",
       "      <td>38.610000</td>\n",
       "      <td>3.032000</td>\n",
       "      <td>3.072000</td>\n",
       "      <td>0.466000</td>\n",
       "      <td>4.538000</td>\n",
       "      <td>0.496000</td>\n",
       "      <td>50416.056000</td>\n",
       "      <td>0.526000</td>\n",
       "    </tr>\n",
       "    <tr>\n",
       "      <th>std</th>\n",
       "      <td>9.438648</td>\n",
       "      <td>1.423738</td>\n",
       "      <td>1.425089</td>\n",
       "      <td>0.499342</td>\n",
       "      <td>2.853215</td>\n",
       "      <td>0.500485</td>\n",
       "      <td>23671.392661</td>\n",
       "      <td>0.499824</td>\n",
       "    </tr>\n",
       "    <tr>\n",
       "      <th>min</th>\n",
       "      <td>23.000000</td>\n",
       "      <td>1.000000</td>\n",
       "      <td>1.000000</td>\n",
       "      <td>0.000000</td>\n",
       "      <td>0.000000</td>\n",
       "      <td>0.000000</td>\n",
       "      <td>24076.000000</td>\n",
       "      <td>0.000000</td>\n",
       "    </tr>\n",
       "    <tr>\n",
       "      <th>25%</th>\n",
       "      <td>30.000000</td>\n",
       "      <td>2.000000</td>\n",
       "      <td>2.000000</td>\n",
       "      <td>0.000000</td>\n",
       "      <td>2.000000</td>\n",
       "      <td>0.000000</td>\n",
       "      <td>29805.000000</td>\n",
       "      <td>0.000000</td>\n",
       "    </tr>\n",
       "    <tr>\n",
       "      <th>50%</th>\n",
       "      <td>39.000000</td>\n",
       "      <td>3.000000</td>\n",
       "      <td>3.000000</td>\n",
       "      <td>0.000000</td>\n",
       "      <td>5.000000</td>\n",
       "      <td>0.000000</td>\n",
       "      <td>42419.000000</td>\n",
       "      <td>1.000000</td>\n",
       "    </tr>\n",
       "    <tr>\n",
       "      <th>75%</th>\n",
       "      <td>47.000000</td>\n",
       "      <td>4.000000</td>\n",
       "      <td>4.000000</td>\n",
       "      <td>1.000000</td>\n",
       "      <td>7.000000</td>\n",
       "      <td>1.000000</td>\n",
       "      <td>65715.000000</td>\n",
       "      <td>1.000000</td>\n",
       "    </tr>\n",
       "    <tr>\n",
       "      <th>max</th>\n",
       "      <td>54.000000</td>\n",
       "      <td>5.000000</td>\n",
       "      <td>5.000000</td>\n",
       "      <td>1.000000</td>\n",
       "      <td>9.000000</td>\n",
       "      <td>1.000000</td>\n",
       "      <td>86750.000000</td>\n",
       "      <td>1.000000</td>\n",
       "    </tr>\n",
       "  </tbody>\n",
       "</table>\n",
       "</div>"
      ],
      "text/plain": [
       "              age   job_level      rating      onsite      awards  \\\n",
       "count  500.000000  500.000000  500.000000  500.000000  500.000000   \n",
       "mean    38.610000    3.032000    3.072000    0.466000    4.538000   \n",
       "std      9.438648    1.423738    1.425089    0.499342    2.853215   \n",
       "min     23.000000    1.000000    1.000000    0.000000    0.000000   \n",
       "25%     30.000000    2.000000    2.000000    0.000000    2.000000   \n",
       "50%     39.000000    3.000000    3.000000    0.000000    5.000000   \n",
       "75%     47.000000    4.000000    4.000000    1.000000    7.000000   \n",
       "max     54.000000    5.000000    5.000000    1.000000    9.000000   \n",
       "\n",
       "       certifications        salary   satisfied  \n",
       "count      500.000000    500.000000  500.000000  \n",
       "mean         0.496000  50416.056000    0.526000  \n",
       "std          0.500485  23671.392661    0.499824  \n",
       "min          0.000000  24076.000000    0.000000  \n",
       "25%          0.000000  29805.000000    0.000000  \n",
       "50%          0.000000  42419.000000    1.000000  \n",
       "75%          1.000000  65715.000000    1.000000  \n",
       "max          1.000000  86750.000000    1.000000  "
      ]
     },
     "execution_count": 9,
     "metadata": {},
     "output_type": "execute_result"
    }
   ],
   "source": [
    "dataset.describe()"
   ]
  },
  {
   "cell_type": "markdown",
   "metadata": {
    "id": "pArphP9vGWRM"
   },
   "source": [
    "Above shows statistical information about numerical columns in the dataset"
   ]
  },
  {
   "cell_type": "markdown",
   "metadata": {
    "id": "lDAUVJT67eCH"
   },
   "source": [
    "Statistical information also shows that the range of values between different numerical fields vary greatly which implies that the dataset needs to be scaled."
   ]
  },
  {
   "cell_type": "markdown",
   "metadata": {
    "id": "F75ENqMrGRUy"
   },
   "source": [
    "### Plot Analysis"
   ]
  },
  {
   "cell_type": "markdown",
   "metadata": {
    "id": "u1sCGztBNwAu"
   },
   "source": [
    "#### Output Class: Satisfied"
   ]
  },
  {
   "cell_type": "code",
   "execution_count": 10,
   "metadata": {
    "colab": {
     "base_uri": "https://localhost:8080/"
    },
    "id": "NHBv-y7QNyFx",
    "outputId": "7d73e930-ac38-4cfd-b5f2-c48d4d6c6942"
   },
   "outputs": [
    {
     "data": {
      "text/plain": [
       "1    263\n",
       "0    237\n",
       "Name: satisfied, dtype: int64"
      ]
     },
     "execution_count": 10,
     "metadata": {},
     "output_type": "execute_result"
    }
   ],
   "source": [
    "dataset['satisfied'].value_counts()"
   ]
  },
  {
   "cell_type": "code",
   "execution_count": 11,
   "metadata": {
    "colab": {
     "base_uri": "https://localhost:8080/",
     "height": 279
    },
    "id": "oWRlh4PfNyeR",
    "outputId": "2ee74c93-1949-40c4-fec5-b129140445e5"
   },
   "outputs": [
    {
     "data": {
      "image/png": "[encoded data removed]",
      "text/plain": [
       "<Figure size 432x288 with 1 Axes>"
      ]
     },
     "metadata": {
      "needs_background": "light"
     },
     "output_type": "display_data"
    }
   ],
   "source": [
    "sns.countplot(x = 'satisfied', data = dataset)\n",
    "plt.show()"
   ]
  },
  {
   "cell_type": "markdown",
   "metadata": {
    "id": "AAtq538ON4mJ"
   },
   "source": [
    "Above plot shows that the dataset is relatively balanced with almost similar counts of participants found with heart disease and those who do not. This makes accuracy reporting better as there are no bias in any particular output class."
   ]
  },
  {
   "cell_type": "markdown",
   "metadata": {
    "id": "0DABjGxFK4FD"
   },
   "source": [
    "#### Numerical Features"
   ]
  },
  {
   "cell_type": "code",
   "execution_count": 12,
   "metadata": {
    "colab": {
     "base_uri": "https://localhost:8080/",
     "height": 410
    },
    "id": "s5pDOeqlHB1L",
    "outputId": "bbfeaf7e-5ee3-4874-f667-902d7ff84c9b"
   },
   "outputs": [
    {
     "data": {
      "image/png": "[encoded data removed]",
      "text/plain": [
       "<Figure size 1152x648 with 2 Axes>"
      ]
     },
     "metadata": {
      "needs_background": "light"
     },
     "output_type": "display_data"
    }
   ],
   "source": [
    "plt.figure(figsize=(16,9))\n",
    "plt_df = dataset.drop(['emp_id', 'Dept', 'location', 'education', 'recruitment_type'],axis = 1)\n",
    "ax = sns.heatmap(plt_df.corr(),annot = True)\n",
    "plt.show()"
   ]
  },
  {
   "cell_type": "markdown",
   "metadata": {
    "id": "opntFzvnHsC5"
   },
   "source": [
    "As seen in the heatmap above, only one pair of correlated features can be found. The salary is significantly correlated with the job_level which is expected in any company as a higher position should come with higher pay."
   ]
  },
  {
   "cell_type": "code",
   "execution_count": 13,
   "metadata": {
    "colab": {
     "base_uri": "https://localhost:8080/",
     "height": 663
    },
    "id": "Yen0H3VgIrzZ",
    "outputId": "2efb13e7-229b-44ac-d222-ec94c5e98b3c"
   },
   "outputs": [
    {
     "data": {
      "text/plain": [
       "<seaborn.axisgrid.PairGrid at 0x7f51ea01ba60>"
      ]
     },
     "execution_count": 13,
     "metadata": {},
     "output_type": "execute_result"
    },
    {
     "data": {
      "image/png": "[encoded data removed]",
      "text/plain": [
       "<Figure size 1440x1440 with 72 Axes>"
      ]
     },
     "metadata": {
      "needs_background": "light"
     },
     "output_type": "display_data"
    }
   ],
   "source": [
    "sns.pairplot(plt_df)"
   ]
  },
  {
   "cell_type": "markdown",
   "metadata": {
    "id": "0Koy1EPXJ4Xu"
   },
   "source": [
    "The pairplot shows that distribution among values are even except for the previously identified correlated features which are salary and job level. The high degree of correlation between these two fields is obvious from the nearly straight line plot."
   ]
  },
  {
   "cell_type": "markdown",
   "metadata": {
    "id": "DT0sfnesKijp"
   },
   "source": [
    "#### Categorical Fields"
   ]
  },
  {
   "cell_type": "markdown",
   "metadata": {
    "id": "-0AXuM4wKyM-"
   },
   "source": [
    "##### Dept"
   ]
  },
  {
   "cell_type": "code",
   "execution_count": 14,
   "metadata": {
    "colab": {
     "base_uri": "https://localhost:8080/"
    },
    "id": "HMaVOUIfKcgi",
    "outputId": "0eb318d2-212b-4d29-c57a-c7c5145db943"
   },
   "outputs": [
    {
     "data": {
      "text/plain": [
       "Purchasing    109\n",
       "HR            106\n",
       "Technology     98\n",
       "Marketing      95\n",
       "Sales          92\n",
       "Name: Dept, dtype: int64"
      ]
     },
     "execution_count": 14,
     "metadata": {},
     "output_type": "execute_result"
    }
   ],
   "source": [
    "dataset['Dept'].value_counts()"
   ]
  },
  {
   "cell_type": "code",
   "execution_count": 15,
   "metadata": {
    "colab": {
     "base_uri": "https://localhost:8080/",
     "height": 279
    },
    "id": "7E47G8yzKsqy",
    "outputId": "cf5722a0-b6eb-43db-e608-290585e2dcff"
   },
   "outputs": [
    {
     "data": {
      "image/png": "[encoded data removed]",
      "text/plain": [
       "<Figure size 432x288 with 1 Axes>"
      ]
     },
     "metadata": {
      "needs_background": "light"
     },
     "output_type": "display_data"
    }
   ],
   "source": [
    "sns.countplot(x = 'Dept',data = dataset)\n",
    "plt.show()"
   ]
  },
  {
   "cell_type": "markdown",
   "metadata": {
    "id": "cDCfa7qy73hI"
   },
   "source": [
    "The departments that are part of the population are:\n",
    "* HR\n",
    "* Technology\n",
    "* Sales Dept\n",
    "* Purchasing\n",
    "* Marketing\n",
    "\n",
    "Plot shows that all departments are represented with similar population."
   ]
  },
  {
   "cell_type": "markdown",
   "metadata": {
    "id": "WPVdNpneKxG3"
   },
   "source": [
    "##### location"
   ]
  },
  {
   "cell_type": "code",
   "execution_count": 16,
   "metadata": {
    "colab": {
     "base_uri": "https://localhost:8080/"
    },
    "id": "TfdnfaYrKwyk",
    "outputId": "c167d4b5-d8b5-415c-bb40-881d8b3dd1b8"
   },
   "outputs": [
    {
     "data": {
      "text/plain": [
       "City      259\n",
       "Suburb    241\n",
       "Name: location, dtype: int64"
      ]
     },
     "execution_count": 16,
     "metadata": {},
     "output_type": "execute_result"
    }
   ],
   "source": [
    "dataset['location'].value_counts()"
   ]
  },
  {
   "cell_type": "code",
   "execution_count": 17,
   "metadata": {
    "colab": {
     "base_uri": "https://localhost:8080/",
     "height": 279
    },
    "id": "-lOb89nvLRQA",
    "outputId": "a3a127bd-76aa-4a61-b727-d1058fa007f1"
   },
   "outputs": [
    {
     "data": {
      "image/png": "[encoded data removed]",
      "text/plain": [
       "<Figure size 432x288 with 1 Axes>"
      ]
     },
     "metadata": {
      "needs_background": "light"
     },
     "output_type": "display_data"
    }
   ],
   "source": [
    "sns.countplot(x = 'location',data = dataset)\n",
    "plt.show()"
   ]
  },
  {
   "cell_type": "markdown",
   "metadata": {
    "id": "JQcrjhtCLYDG"
   },
   "source": [
    "Possible values for location are:\n",
    "* Suburb\n",
    "* City\n",
    "\n",
    "Both types are represented with almost similar counts"
   ]
  },
  {
   "cell_type": "markdown",
   "metadata": {
    "id": "bKw5Wd35LvAF"
   },
   "source": [
    "##### education"
   ]
  },
  {
   "cell_type": "code",
   "execution_count": 18,
   "metadata": {
    "colab": {
     "base_uri": "https://localhost:8080/"
    },
    "id": "SpRJcnvmLXlq",
    "outputId": "6109f25b-99a1-4d3c-f1a1-15898f76e39a"
   },
   "outputs": [
    {
     "data": {
      "text/plain": [
       "PG    254\n",
       "UG    246\n",
       "Name: education, dtype: int64"
      ]
     },
     "execution_count": 18,
     "metadata": {},
     "output_type": "execute_result"
    }
   ],
   "source": [
    "dataset['education'].value_counts()"
   ]
  },
  {
   "cell_type": "code",
   "execution_count": 19,
   "metadata": {
    "colab": {
     "base_uri": "https://localhost:8080/",
     "height": 279
    },
    "id": "9fp0jsCxLzUT",
    "outputId": "187370d6-29e8-4d5a-ef50-7bb31a692392"
   },
   "outputs": [
    {
     "data": {
      "image/png": "[encoded data removed]",
      "text/plain": [
       "<Figure size 432x288 with 1 Axes>"
      ]
     },
     "metadata": {
      "needs_background": "light"
     },
     "output_type": "display_data"
    }
   ],
   "source": [
    "sns.countplot(x = 'education',data = dataset)\n",
    "plt.show()"
   ]
  },
  {
   "cell_type": "markdown",
   "metadata": {
    "id": "-4kCO1PnL31z"
   },
   "source": [
    "Possible values for education are:\n",
    "* PG - post graduate\n",
    "* UG - under graduate\n",
    "\n",
    "Both types are represented with almost similar counts"
   ]
  },
  {
   "cell_type": "markdown",
   "metadata": {
    "id": "WryKujK6MbqW"
   },
   "source": [
    "##### recruitment_type"
   ]
  },
  {
   "cell_type": "code",
   "execution_count": 20,
   "metadata": {
    "colab": {
     "base_uri": "https://localhost:8080/"
    },
    "id": "W16fsxoxL3HR",
    "outputId": "6e61e4d4-4188-4544-babf-c59451e086a2"
   },
   "outputs": [
    {
     "data": {
      "text/plain": [
       "On-Campus             133\n",
       "Referral              131\n",
       "Walk-in               128\n",
       "Recruitment Agency    108\n",
       "Name: recruitment_type, dtype: int64"
      ]
     },
     "execution_count": 20,
     "metadata": {},
     "output_type": "execute_result"
    }
   ],
   "source": [
    "dataset['recruitment_type'].value_counts()"
   ]
  },
  {
   "cell_type": "code",
   "execution_count": 21,
   "metadata": {
    "colab": {
     "base_uri": "https://localhost:8080/",
     "height": 280
    },
    "id": "02IS4KQWL3De",
    "outputId": "2703c676-3261-4fdd-aede-b76524655759"
   },
   "outputs": [
    {
     "data": {
      "image/png": "[encoded data removed]",
      "text/plain": [
       "<Figure size 432x288 with 1 Axes>"
      ]
     },
     "metadata": {
      "needs_background": "light"
     },
     "output_type": "display_data"
    }
   ],
   "source": [
    "sns.countplot(x = 'recruitment_type',data = dataset)\n",
    "plt.show()"
   ]
  },
  {
   "cell_type": "markdown",
   "metadata": {
    "id": "hLiVwrf9Mvpq"
   },
   "source": [
    "Possible values for recruitment_type are:\n",
    "* Referral\n",
    "* Walk-in\n",
    "* On-Campus\n",
    "* Recruitment Agency\n",
    "\n",
    "Referral, walk-in, and on-campus population have similar counts with recruitment agency having slightly less population compared to the other three."
   ]
  },
  {
   "cell_type": "markdown",
   "metadata": {
    "id": "IX9nQFmmPQmG"
   },
   "source": [
    "## Feature Engineering"
   ]
  },
  {
   "cell_type": "markdown",
   "metadata": {
    "id": "EKF8dXVTPYFY"
   },
   "source": [
    "Since machine learning models process numerical values instead of text data, categorical data must first be converted\n",
    "to numerical data. One hot encoding is used to convert to numerical data to\n",
    "avoid potential misinterpretation of the algorithm that the numerical values\n",
    "are ordinal and can be compared against each other."
   ]
  },
  {
   "cell_type": "markdown",
   "metadata": {
    "id": "hcG4kwab9TzF"
   },
   "source": [
    "### Feature Selection"
   ]
  },
  {
   "cell_type": "markdown",
   "metadata": {
    "id": "CgLbxq7r-CS0"
   },
   "source": [
    "Since employee ID is a unique identifier, it is not useable in a machine learning perspective. Therefore it will be dropped before training."
   ]
  },
  {
   "cell_type": "markdown",
   "metadata": {
    "id": "jofop9-7-PDp"
   },
   "source": [
    "As seen in the EDA section, the job_level and salary fields are very correlated. As such, we can drop one field in favor of the other. Since salary has greater range, we drop job_level instead."
   ]
  },
  {
   "cell_type": "code",
   "execution_count": 22,
   "metadata": {
    "id": "GsGTa6Ce9kai"
   },
   "outputs": [],
   "source": [
    "dataset = dataset.drop(['emp_id', 'job_level'], axis=1)"
   ]
  },
  {
   "cell_type": "markdown",
   "metadata": {
    "id": "fjcBxSnvR_gX"
   },
   "source": [
    "### One-Hot Encoding"
   ]
  },
  {
   "cell_type": "code",
   "execution_count": 23,
   "metadata": {
    "id": "TWFexVwlRj2W"
   },
   "outputs": [],
   "source": [
    "dataset_encoded = pd.get_dummies(data=dataset,\n",
    "                                 columns=[\n",
    "                                          'Dept', \n",
    "                                          'location', \n",
    "                                          'education', \n",
    "                                          'recruitment_type'\n",
    "                                          ],\n",
    "                                 drop_first=True)"
   ]
  },
  {
   "cell_type": "markdown",
   "metadata": {
    "id": "BdEVxc0mSS3m"
   },
   "source": [
    "Above adds one-hot encoded columns based on the categorical fields and drops the original categorical fields"
   ]
  },
  {
   "cell_type": "code",
   "execution_count": 24,
   "metadata": {
    "colab": {
     "base_uri": "https://localhost:8080/",
     "height": 288
    },
    "id": "WLbEGNSsSEKk",
    "outputId": "0a6de714-2dc4-4343-89c3-3b0c168728a5"
   },
   "outputs": [
    {
     "data": {
      "text/html": [
       "<div>\n",
       "<style scoped>\n",
       "    .dataframe tbody tr th:only-of-type {\n",
       "        vertical-align: middle;\n",
       "    }\n",
       "\n",
       "    .dataframe tbody tr th {\n",
       "        vertical-align: top;\n",
       "    }\n",
       "\n",
       "    .dataframe thead th {\n",
       "        text-align: right;\n",
       "    }\n",
       "</style>\n",
       "<table border=\"1\" class=\"dataframe\">\n",
       "  <thead>\n",
       "    <tr style=\"text-align: right;\">\n",
       "      <th></th>\n",
       "      <th>age</th>\n",
       "      <th>rating</th>\n",
       "      <th>onsite</th>\n",
       "      <th>awards</th>\n",
       "      <th>certifications</th>\n",
       "      <th>salary</th>\n",
       "      <th>satisfied</th>\n",
       "      <th>Dept_Marketing</th>\n",
       "      <th>Dept_Purchasing</th>\n",
       "      <th>Dept_Sales</th>\n",
       "      <th>Dept_Technology</th>\n",
       "      <th>location_Suburb</th>\n",
       "      <th>education_UG</th>\n",
       "      <th>recruitment_type_Recruitment Agency</th>\n",
       "      <th>recruitment_type_Referral</th>\n",
       "      <th>recruitment_type_Walk-in</th>\n",
       "    </tr>\n",
       "  </thead>\n",
       "  <tbody>\n",
       "    <tr>\n",
       "      <th>0</th>\n",
       "      <td>28</td>\n",
       "      <td>2</td>\n",
       "      <td>0</td>\n",
       "      <td>1</td>\n",
       "      <td>0</td>\n",
       "      <td>86750</td>\n",
       "      <td>1</td>\n",
       "      <td>0</td>\n",
       "      <td>0</td>\n",
       "      <td>0</td>\n",
       "      <td>0</td>\n",
       "      <td>1</td>\n",
       "      <td>0</td>\n",
       "      <td>0</td>\n",
       "      <td>1</td>\n",
       "      <td>0</td>\n",
       "    </tr>\n",
       "    <tr>\n",
       "      <th>1</th>\n",
       "      <td>50</td>\n",
       "      <td>5</td>\n",
       "      <td>1</td>\n",
       "      <td>2</td>\n",
       "      <td>1</td>\n",
       "      <td>42419</td>\n",
       "      <td>0</td>\n",
       "      <td>0</td>\n",
       "      <td>0</td>\n",
       "      <td>0</td>\n",
       "      <td>1</td>\n",
       "      <td>1</td>\n",
       "      <td>0</td>\n",
       "      <td>0</td>\n",
       "      <td>0</td>\n",
       "      <td>1</td>\n",
       "    </tr>\n",
       "    <tr>\n",
       "      <th>2</th>\n",
       "      <td>43</td>\n",
       "      <td>1</td>\n",
       "      <td>0</td>\n",
       "      <td>2</td>\n",
       "      <td>0</td>\n",
       "      <td>65715</td>\n",
       "      <td>0</td>\n",
       "      <td>0</td>\n",
       "      <td>0</td>\n",
       "      <td>0</td>\n",
       "      <td>1</td>\n",
       "      <td>1</td>\n",
       "      <td>1</td>\n",
       "      <td>0</td>\n",
       "      <td>1</td>\n",
       "      <td>0</td>\n",
       "    </tr>\n",
       "    <tr>\n",
       "      <th>3</th>\n",
       "      <td>44</td>\n",
       "      <td>3</td>\n",
       "      <td>1</td>\n",
       "      <td>0</td>\n",
       "      <td>0</td>\n",
       "      <td>29805</td>\n",
       "      <td>1</td>\n",
       "      <td>0</td>\n",
       "      <td>0</td>\n",
       "      <td>1</td>\n",
       "      <td>0</td>\n",
       "      <td>0</td>\n",
       "      <td>0</td>\n",
       "      <td>0</td>\n",
       "      <td>0</td>\n",
       "      <td>0</td>\n",
       "    </tr>\n",
       "    <tr>\n",
       "      <th>4</th>\n",
       "      <td>33</td>\n",
       "      <td>1</td>\n",
       "      <td>0</td>\n",
       "      <td>5</td>\n",
       "      <td>0</td>\n",
       "      <td>29805</td>\n",
       "      <td>1</td>\n",
       "      <td>0</td>\n",
       "      <td>0</td>\n",
       "      <td>0</td>\n",
       "      <td>0</td>\n",
       "      <td>0</td>\n",
       "      <td>1</td>\n",
       "      <td>1</td>\n",
       "      <td>0</td>\n",
       "      <td>0</td>\n",
       "    </tr>\n",
       "  </tbody>\n",
       "</table>\n",
       "</div>"
      ],
      "text/plain": [
       "   age  rating  onsite  awards  certifications  salary  satisfied  \\\n",
       "0   28       2       0       1               0   86750          1   \n",
       "1   50       5       1       2               1   42419          0   \n",
       "2   43       1       0       2               0   65715          0   \n",
       "3   44       3       1       0               0   29805          1   \n",
       "4   33       1       0       5               0   29805          1   \n",
       "\n",
       "   Dept_Marketing  Dept_Purchasing  Dept_Sales  Dept_Technology  \\\n",
       "0               0                0           0                0   \n",
       "1               0                0           0                1   \n",
       "2               0                0           0                1   \n",
       "3               0                0           1                0   \n",
       "4               0                0           0                0   \n",
       "\n",
       "   location_Suburb  education_UG  recruitment_type_Recruitment Agency  \\\n",
       "0                1             0                                    0   \n",
       "1                1             0                                    0   \n",
       "2                1             1                                    0   \n",
       "3                0             0                                    0   \n",
       "4                0             1                                    1   \n",
       "\n",
       "   recruitment_type_Referral  recruitment_type_Walk-in  \n",
       "0                          1                         0  \n",
       "1                          0                         1  \n",
       "2                          1                         0  \n",
       "3                          0                         0  \n",
       "4                          0                         0  "
      ]
     },
     "execution_count": 24,
     "metadata": {},
     "output_type": "execute_result"
    }
   ],
   "source": [
    "dataset_encoded.head()"
   ]
  },
  {
   "cell_type": "code",
   "execution_count": 25,
   "metadata": {
    "colab": {
     "base_uri": "https://localhost:8080/",
     "height": 288
    },
    "id": "cjZojEWbSFsx",
    "outputId": "23627d76-2241-45b1-da5e-6f2700e346fd"
   },
   "outputs": [
    {
     "data": {
      "text/html": [
       "<div>\n",
       "<style scoped>\n",
       "    .dataframe tbody tr th:only-of-type {\n",
       "        vertical-align: middle;\n",
       "    }\n",
       "\n",
       "    .dataframe tbody tr th {\n",
       "        vertical-align: top;\n",
       "    }\n",
       "\n",
       "    .dataframe thead th {\n",
       "        text-align: right;\n",
       "    }\n",
       "</style>\n",
       "<table border=\"1\" class=\"dataframe\">\n",
       "  <thead>\n",
       "    <tr style=\"text-align: right;\">\n",
       "      <th></th>\n",
       "      <th>age</th>\n",
       "      <th>rating</th>\n",
       "      <th>onsite</th>\n",
       "      <th>awards</th>\n",
       "      <th>certifications</th>\n",
       "      <th>salary</th>\n",
       "      <th>satisfied</th>\n",
       "      <th>Dept_Marketing</th>\n",
       "      <th>Dept_Purchasing</th>\n",
       "      <th>Dept_Sales</th>\n",
       "      <th>Dept_Technology</th>\n",
       "      <th>location_Suburb</th>\n",
       "      <th>education_UG</th>\n",
       "      <th>recruitment_type_Recruitment Agency</th>\n",
       "      <th>recruitment_type_Referral</th>\n",
       "      <th>recruitment_type_Walk-in</th>\n",
       "    </tr>\n",
       "  </thead>\n",
       "  <tbody>\n",
       "    <tr>\n",
       "      <th>495</th>\n",
       "      <td>49</td>\n",
       "      <td>5</td>\n",
       "      <td>0</td>\n",
       "      <td>6</td>\n",
       "      <td>0</td>\n",
       "      <td>29805</td>\n",
       "      <td>1</td>\n",
       "      <td>0</td>\n",
       "      <td>0</td>\n",
       "      <td>0</td>\n",
       "      <td>0</td>\n",
       "      <td>1</td>\n",
       "      <td>0</td>\n",
       "      <td>0</td>\n",
       "      <td>0</td>\n",
       "      <td>0</td>\n",
       "    </tr>\n",
       "    <tr>\n",
       "      <th>496</th>\n",
       "      <td>24</td>\n",
       "      <td>4</td>\n",
       "      <td>0</td>\n",
       "      <td>2</td>\n",
       "      <td>0</td>\n",
       "      <td>29805</td>\n",
       "      <td>0</td>\n",
       "      <td>0</td>\n",
       "      <td>0</td>\n",
       "      <td>0</td>\n",
       "      <td>1</td>\n",
       "      <td>1</td>\n",
       "      <td>1</td>\n",
       "      <td>0</td>\n",
       "      <td>1</td>\n",
       "      <td>0</td>\n",
       "    </tr>\n",
       "    <tr>\n",
       "      <th>497</th>\n",
       "      <td>34</td>\n",
       "      <td>3</td>\n",
       "      <td>0</td>\n",
       "      <td>2</td>\n",
       "      <td>0</td>\n",
       "      <td>24076</td>\n",
       "      <td>1</td>\n",
       "      <td>1</td>\n",
       "      <td>0</td>\n",
       "      <td>0</td>\n",
       "      <td>0</td>\n",
       "      <td>0</td>\n",
       "      <td>0</td>\n",
       "      <td>0</td>\n",
       "      <td>0</td>\n",
       "      <td>0</td>\n",
       "    </tr>\n",
       "    <tr>\n",
       "      <th>498</th>\n",
       "      <td>26</td>\n",
       "      <td>1</td>\n",
       "      <td>1</td>\n",
       "      <td>1</td>\n",
       "      <td>1</td>\n",
       "      <td>29805</td>\n",
       "      <td>0</td>\n",
       "      <td>0</td>\n",
       "      <td>0</td>\n",
       "      <td>0</td>\n",
       "      <td>1</td>\n",
       "      <td>0</td>\n",
       "      <td>1</td>\n",
       "      <td>0</td>\n",
       "      <td>0</td>\n",
       "      <td>0</td>\n",
       "    </tr>\n",
       "    <tr>\n",
       "      <th>499</th>\n",
       "      <td>26</td>\n",
       "      <td>4</td>\n",
       "      <td>0</td>\n",
       "      <td>3</td>\n",
       "      <td>0</td>\n",
       "      <td>42419</td>\n",
       "      <td>0</td>\n",
       "      <td>0</td>\n",
       "      <td>0</td>\n",
       "      <td>0</td>\n",
       "      <td>1</td>\n",
       "      <td>0</td>\n",
       "      <td>1</td>\n",
       "      <td>1</td>\n",
       "      <td>0</td>\n",
       "      <td>0</td>\n",
       "    </tr>\n",
       "  </tbody>\n",
       "</table>\n",
       "</div>"
      ],
      "text/plain": [
       "     age  rating  onsite  awards  certifications  salary  satisfied  \\\n",
       "495   49       5       0       6               0   29805          1   \n",
       "496   24       4       0       2               0   29805          0   \n",
       "497   34       3       0       2               0   24076          1   \n",
       "498   26       1       1       1               1   29805          0   \n",
       "499   26       4       0       3               0   42419          0   \n",
       "\n",
       "     Dept_Marketing  Dept_Purchasing  Dept_Sales  Dept_Technology  \\\n",
       "495               0                0           0                0   \n",
       "496               0                0           0                1   \n",
       "497               1                0           0                0   \n",
       "498               0                0           0                1   \n",
       "499               0                0           0                1   \n",
       "\n",
       "     location_Suburb  education_UG  recruitment_type_Recruitment Agency  \\\n",
       "495                1             0                                    0   \n",
       "496                1             1                                    0   \n",
       "497                0             0                                    0   \n",
       "498                0             1                                    0   \n",
       "499                0             1                                    1   \n",
       "\n",
       "     recruitment_type_Referral  recruitment_type_Walk-in  \n",
       "495                          0                         0  \n",
       "496                          1                         0  \n",
       "497                          0                         0  \n",
       "498                          0                         0  \n",
       "499                          0                         0  "
      ]
     },
     "execution_count": 25,
     "metadata": {},
     "output_type": "execute_result"
    }
   ],
   "source": [
    "dataset_encoded.tail()"
   ]
  },
  {
   "cell_type": "code",
   "execution_count": 26,
   "metadata": {
    "colab": {
     "base_uri": "https://localhost:8080/"
    },
    "id": "iW_uxIwXSG67",
    "outputId": "05163333-3d96-43d5-e4d4-a5479413ddad"
   },
   "outputs": [
    {
     "data": {
      "text/plain": [
       "Index(['age', 'rating', 'onsite', 'awards', 'certifications', 'salary',\n",
       "       'satisfied', 'Dept_Marketing', 'Dept_Purchasing', 'Dept_Sales',\n",
       "       'Dept_Technology', 'location_Suburb', 'education_UG',\n",
       "       'recruitment_type_Recruitment Agency', 'recruitment_type_Referral',\n",
       "       'recruitment_type_Walk-in'],\n",
       "      dtype='object')"
      ]
     },
     "execution_count": 26,
     "metadata": {},
     "output_type": "execute_result"
    }
   ],
   "source": [
    "dataset_encoded.columns"
   ]
  },
  {
   "cell_type": "markdown",
   "metadata": {
    "id": "yKgUtpQbSjEh"
   },
   "source": [
    "The new one-hot encoded features are now added into the dataset for processing"
   ]
  },
  {
   "cell_type": "code",
   "execution_count": 27,
   "metadata": {
    "colab": {
     "base_uri": "https://localhost:8080/"
    },
    "id": "faMHiINwSMED",
    "outputId": "cee4a458-7269-4c12-807c-4af0bf4fc771"
   },
   "outputs": [
    {
     "name": "stdout",
     "output_type": "stream",
     "text": [
      "<class 'pandas.core.frame.DataFrame'>\n",
      "Int64Index: 500 entries, 0 to 499\n",
      "Data columns (total 16 columns):\n",
      " #   Column                               Non-Null Count  Dtype\n",
      "---  ------                               --------------  -----\n",
      " 0   age                                  500 non-null    int64\n",
      " 1   rating                               500 non-null    int64\n",
      " 2   onsite                               500 non-null    int64\n",
      " 3   awards                               500 non-null    int64\n",
      " 4   certifications                       500 non-null    int64\n",
      " 5   salary                               500 non-null    int64\n",
      " 6   satisfied                            500 non-null    int64\n",
      " 7   Dept_Marketing                       500 non-null    uint8\n",
      " 8   Dept_Purchasing                      500 non-null    uint8\n",
      " 9   Dept_Sales                           500 non-null    uint8\n",
      " 10  Dept_Technology                      500 non-null    uint8\n",
      " 11  location_Suburb                      500 non-null    uint8\n",
      " 12  education_UG                         500 non-null    uint8\n",
      " 13  recruitment_type_Recruitment Agency  500 non-null    uint8\n",
      " 14  recruitment_type_Referral            500 non-null    uint8\n",
      " 15  recruitment_type_Walk-in             500 non-null    uint8\n",
      "dtypes: int64(7), uint8(9)\n",
      "memory usage: 51.8 KB\n"
     ]
    }
   ],
   "source": [
    "dataset_encoded.info()"
   ]
  },
  {
   "cell_type": "markdown",
   "metadata": {
    "id": "5PakvShVSp7B"
   },
   "source": [
    "Verified that there are no more categorical oolumns in the dataset"
   ]
  },
  {
   "cell_type": "markdown",
   "metadata": {
    "id": "tYRQ2oWJSvp4"
   },
   "source": [
    "### Scaling"
   ]
  },
  {
   "cell_type": "code",
   "execution_count": 28,
   "metadata": {
    "colab": {
     "base_uri": "https://localhost:8080/"
    },
    "id": "Ri5K8I-7SyDx",
    "outputId": "3ad9e667-263e-4bce-cb73-b89b3f0ad60f"
   },
   "outputs": [
    {
     "data": {
      "text/plain": [
       "StandardScaler()"
      ]
     },
     "execution_count": 28,
     "metadata": {},
     "output_type": "execute_result"
    }
   ],
   "source": [
    "scaler = StandardScaler()\n",
    "scaler.fit(dataset_encoded.drop('satisfied',axis = 1))"
   ]
  },
  {
   "cell_type": "markdown",
   "metadata": {
    "id": "mqM_UUj4T3NI"
   },
   "source": [
    "Prepare scaler for scaling datasets later"
   ]
  },
  {
   "cell_type": "markdown",
   "metadata": {
    "id": "uW1iO1yHT6qE"
   },
   "source": [
    "## ML Classifiers and Datasets without Cross Validation"
   ]
  },
  {
   "cell_type": "markdown",
   "metadata": {
    "id": "S2pzu-yLT_Ar"
   },
   "source": [
    "### Segregate Train and Test Data"
   ]
  },
  {
   "cell_type": "code",
   "execution_count": 29,
   "metadata": {
    "id": "GA6Ml3tDUOf8"
   },
   "outputs": [],
   "source": [
    "X = dataset_encoded.drop('satisfied',axis = 1)\n",
    "y = dataset_encoded['satisfied']\n",
    "X_train, X_test, y_train, y_test = train_test_split(X, y, test_size=0.3)"
   ]
  },
  {
   "cell_type": "markdown",
   "metadata": {
    "id": "rdSeGs9JNJ_1"
   },
   "source": [
    "### Scale All Data"
   ]
  },
  {
   "cell_type": "code",
   "execution_count": 30,
   "metadata": {
    "id": "I0lMqu-sNOsz"
   },
   "outputs": [],
   "source": [
    "X = scaler.transform(X)"
   ]
  },
  {
   "cell_type": "markdown",
   "metadata": {
    "id": "cxqUaRm4Uihf"
   },
   "source": [
    "### Scale Train Data"
   ]
  },
  {
   "cell_type": "code",
   "execution_count": 31,
   "metadata": {
    "id": "DIfOzX3AUdHE"
   },
   "outputs": [],
   "source": [
    "X_train = scaler.transform(X_train)"
   ]
  },
  {
   "cell_type": "markdown",
   "metadata": {
    "id": "G8LL-3WpU0aG"
   },
   "source": [
    "### Scale Test Data"
   ]
  },
  {
   "cell_type": "code",
   "execution_count": 32,
   "metadata": {
    "id": "Gwbo7kHmU32Z"
   },
   "outputs": [],
   "source": [
    "X_test = scaler.transform(X_test)"
   ]
  },
  {
   "cell_type": "markdown",
   "metadata": {
    "id": "m2S3fIPkVs5b"
   },
   "source": [
    "### Train Model"
   ]
  },
  {
   "cell_type": "code",
   "execution_count": 33,
   "metadata": {
    "colab": {
     "base_uri": "https://localhost:8080/"
    },
    "id": "xJ3wVIv6VXfD",
    "outputId": "deceda73-d6da-45ca-a1d0-2dff48376b31"
   },
   "outputs": [
    {
     "data": {
      "text/plain": [
       "SVC()"
      ]
     },
     "execution_count": 33,
     "metadata": {},
     "output_type": "execute_result"
    }
   ],
   "source": [
    "model = SVC()\n",
    "model.fit(X_train, y_train)"
   ]
  },
  {
   "cell_type": "markdown",
   "metadata": {
    "id": "2WDvt6snVT3y"
   },
   "source": [
    "### Predictions"
   ]
  },
  {
   "cell_type": "code",
   "execution_count": 34,
   "metadata": {
    "id": "FU80VglxVvqb"
   },
   "outputs": [],
   "source": [
    "predictions = model.predict(X_test)"
   ]
  },
  {
   "cell_type": "markdown",
   "metadata": {
    "id": "-dSInerZV4Pn"
   },
   "source": [
    "### Metrics"
   ]
  },
  {
   "cell_type": "markdown",
   "metadata": {
    "id": "-G8-8W7rXtA7"
   },
   "source": [
    "#### Classification Report"
   ]
  },
  {
   "cell_type": "code",
   "execution_count": 35,
   "metadata": {
    "colab": {
     "base_uri": "https://localhost:8080/"
    },
    "id": "bGAEb1nJV5n6",
    "outputId": "192ef993-7bee-4b7f-c996-d3ea4af5f67d"
   },
   "outputs": [
    {
     "name": "stdout",
     "output_type": "stream",
     "text": [
      "              precision    recall  f1-score   support\n",
      "\n",
      "           0       0.42      0.29      0.34        73\n",
      "           1       0.48      0.62      0.54        77\n",
      "\n",
      "    accuracy                           0.46       150\n",
      "   macro avg       0.45      0.46      0.44       150\n",
      "weighted avg       0.45      0.46      0.44       150\n",
      "\n"
     ]
    }
   ],
   "source": [
    "base_classification_report = classification_report(y_test,predictions)\n",
    "print(base_classification_report)"
   ]
  },
  {
   "cell_type": "markdown",
   "metadata": {
    "id": "k0aKQmlUXvnv"
   },
   "source": [
    "#### Confusion Matrix"
   ]
  },
  {
   "cell_type": "code",
   "execution_count": 36,
   "metadata": {
    "colab": {
     "base_uri": "https://localhost:8080/"
    },
    "id": "zcPNPALoWg5E",
    "outputId": "a4d82299-8759-4333-c0c1-0f86c9565aec"
   },
   "outputs": [
    {
     "name": "stdout",
     "output_type": "stream",
     "text": [
      "[[21 52]\n",
      " [29 48]]\n"
     ]
    }
   ],
   "source": [
    "base_confusion_matrix = confusion_matrix(y_test,predictions)\n",
    "print(base_confusion_matrix)"
   ]
  },
  {
   "cell_type": "code",
   "execution_count": 37,
   "metadata": {
    "colab": {
     "base_uri": "https://localhost:8080/",
     "height": 340
    },
    "id": "RejdHpdJWrNZ",
    "outputId": "ed512736-6ca6-4d44-b1e8-612d123bbdb8"
   },
   "outputs": [
    {
     "name": "stderr",
     "output_type": "stream",
     "text": [
      "/opt/conda/lib/python3.9/site-packages/sklearn/utils/deprecation.py:87: FutureWarning: Function plot_confusion_matrix is deprecated; Function `plot_confusion_matrix` is deprecated in 1.0 and will be removed in 1.2. Use one of the class methods: ConfusionMatrixDisplay.from_predictions or ConfusionMatrixDisplay.from_estimator.\n",
      "  warnings.warn(msg, category=FutureWarning)\n"
     ]
    },
    {
     "data": {
      "image/png": "[encoded data removed]",
      "text/plain": [
       "<Figure size 432x288 with 2 Axes>"
      ]
     },
     "metadata": {
      "needs_background": "light"
     },
     "output_type": "display_data"
    }
   ],
   "source": [
    "plot_confusion_matrix(model, X_test, y_test)\n",
    "plt.show()"
   ]
  },
  {
   "cell_type": "markdown",
   "metadata": {
    "id": "ZF3cG5FQW9gV"
   },
   "source": [
    "#### Accuracy"
   ]
  },
  {
   "cell_type": "code",
   "execution_count": 38,
   "metadata": {
    "colab": {
     "base_uri": "https://localhost:8080/"
    },
    "id": "sVMwUm9yW--B",
    "outputId": "ad222a69-e492-4aa7-e4d9-75c5899cc612"
   },
   "outputs": [
    {
     "name": "stdout",
     "output_type": "stream",
     "text": [
      "Accuracy score: 0.46\n"
     ]
    }
   ],
   "source": [
    "base_accuracy = accuracy_score(y_test, predictions)\n",
    "print('Accuracy score:', base_accuracy)"
   ]
  },
  {
   "cell_type": "markdown",
   "metadata": {
    "id": "PqgYWbFKXVa4"
   },
   "source": [
    "#### Precision"
   ]
  },
  {
   "cell_type": "code",
   "execution_count": 39,
   "metadata": {
    "colab": {
     "base_uri": "https://localhost:8080/"
    },
    "id": "nR7-54vlXXn4",
    "outputId": "9fe5c236-6517-4c79-c05b-44c692bc9859"
   },
   "outputs": [
    {
     "name": "stdout",
     "output_type": "stream",
     "text": [
      "Precision score: 0.48\n"
     ]
    }
   ],
   "source": [
    "base_precision = precision_score(y_test, predictions)\n",
    "print('Precision score:', base_precision)"
   ]
  },
  {
   "cell_type": "markdown",
   "metadata": {
    "id": "ML-LWde3Xgvy"
   },
   "source": [
    "#### F1 Score"
   ]
  },
  {
   "cell_type": "code",
   "execution_count": 40,
   "metadata": {
    "colab": {
     "base_uri": "https://localhost:8080/"
    },
    "id": "_zWtiKwiXb9A",
    "outputId": "7e2c7ad0-c802-4d75-cd55-7eae5e3c5fed"
   },
   "outputs": [
    {
     "name": "stdout",
     "output_type": "stream",
     "text": [
      "F1 score: 0.5423728813559322\n"
     ]
    }
   ],
   "source": [
    "base_f1 = f1_score(y_test, predictions)\n",
    "print('F1 score:', base_f1)"
   ]
  },
  {
   "cell_type": "markdown",
   "metadata": {
    "id": "7n4mWbjeJeQl"
   },
   "source": [
    "## Cross Validation"
   ]
  },
  {
   "cell_type": "markdown",
   "metadata": {
    "id": "igpoHD20OkVW"
   },
   "source": [
    "### Hyper-Parameter Tuning"
   ]
  },
  {
   "cell_type": "markdown",
   "metadata": {
    "id": "NNiYe99yV4JN"
   },
   "source": [
    "Cross validation performs multiple runs of splitting the dataset using different sets of training and testing sets and then getting the average accuracy for those runs."
   ]
  },
  {
   "cell_type": "markdown",
   "metadata": {
    "id": "zcW6fajwWZDP"
   },
   "source": [
    "Before running a cross-validation run against the whole dataset, we search for the best parameters of Support Vector Machines that provides the best accuracy results."
   ]
  },
  {
   "cell_type": "markdown",
   "metadata": {
    "id": "PaPxolFEWuWT"
   },
   "source": [
    "We will perform standard K-fold with 5 splits. This just splits the dataset into 5 buckets and runs the algorithm 5 times. For each run, one of the bucket is chosen as the test dataset with the other 4 as the training dataset."
   ]
  },
  {
   "cell_type": "code",
   "execution_count": 41,
   "metadata": {
    "id": "T1osiGO9Ul1e"
   },
   "outputs": [],
   "source": [
    "kf = KFold(n_splits=5, shuffle=True)"
   ]
  },
  {
   "cell_type": "markdown",
   "metadata": {
    "id": "EO5LqlA-XKBs"
   },
   "source": [
    "Define below the different sets of parameter values for running the hyper-parameter tuning."
   ]
  },
  {
   "cell_type": "code",
   "execution_count": 42,
   "metadata": {
    "id": "bwyXgATEUnPQ"
   },
   "outputs": [],
   "source": [
    "parameters = [\n",
    "              {\n",
    "                  'C': [0.1, 1, 10],\n",
    "                  'gamma': [1, 0.1, 0.01],\n",
    "                  'kernel': ['linear', 'rbf', 'sigmoid'],\n",
    "               },\n",
    "              {\n",
    "                  'C': [0.1, 1, 10],\n",
    "                  'gamma': [1, 0.1, 0.01],\n",
    "                  'kernel': ['poly'],\n",
    "                  'degree': [2, 3, 4]\n",
    "              }\n",
    "]"
   ]
  },
  {
   "cell_type": "markdown",
   "metadata": {
    "id": "DzhIWzsTXSTF"
   },
   "source": [
    "Run hyperparameter tuning with cross-validation using 5 k-fold"
   ]
  },
  {
   "cell_type": "code",
   "execution_count": 43,
   "metadata": {
    "colab": {
     "base_uri": "https://localhost:8080/"
    },
    "id": "JZAAcwbaOoyQ",
    "outputId": "a08735ef-3042-4e52-8dc1-cb8426ec2dae"
   },
   "outputs": [
    {
     "name": "stdout",
     "output_type": "stream",
     "text": [
      "Fitting 5 folds for each of 54 candidates, totalling 270 fits\n",
      "[CV 2/5] END .....C=0.1, gamma=1, kernel=linear;, score=0.486 total time=   0.0s\n",
      "[CV 5/5] END .....C=0.1, gamma=1, kernel=linear;, score=0.543 total time=   0.0s\n",
      "[CV 2/5] END ........C=0.1, gamma=1, kernel=rbf;, score=0.471 total time=   0.0s\n",
      "[CV 3/5] END ........C=0.1, gamma=1, kernel=rbf;, score=0.557 total time=   0.0s\n",
      "[CV 1/5] END ....C=0.1, gamma=1, kernel=sigmoid;, score=0.500 total time=   0.0s\n",
      "[CV 3/5] END ....C=0.1, gamma=1, kernel=sigmoid;, score=0.457 total time=   0.0s\n",
      "[CV 5/5] END ....C=0.1, gamma=1, kernel=sigmoid;, score=0.457 total time=   0.0s\n",
      "[CV 1/5] END ...C=0.1, gamma=0.1, kernel=linear;, score=0.471 total time=   0.0s\n",
      "[CV 4/5] END ...C=0.1, gamma=0.1, kernel=linear;, score=0.557 total time=   0.0s\n",
      "[CV 5/5] END ...C=0.1, gamma=0.1, kernel=linear;, score=0.543 total time=   0.0s\n",
      "[CV 3/5] END ......C=0.1, gamma=0.1, kernel=rbf;, score=0.557 total time=   0.0s\n",
      "[CV 4/5] END ......C=0.1, gamma=0.1, kernel=rbf;, score=0.614 total time=   0.0s\n",
      "[CV 4/5] END ..C=0.1, gamma=0.1, kernel=sigmoid;, score=0.557 total time=   0.0s\n",
      "[CV 5/5] END ..C=0.1, gamma=0.1, kernel=sigmoid;, score=0.614 total time=   0.0s\n",
      "[CV 1/5] END ..C=0.1, gamma=0.01, kernel=linear;, score=0.471 total time=   0.0s\n",
      "[CV 2/5] END ..C=0.1, gamma=0.01, kernel=linear;, score=0.486 total time=   0.0s\n",
      "[CV 3/5] END ..C=0.1, gamma=0.01, kernel=linear;, score=0.443 total time=   0.0s\n",
      "[CV 4/5] END ..C=0.1, gamma=0.01, kernel=linear;, score=0.557 total time=   0.0s\n",
      "[CV 5/5] END ..C=0.1, gamma=0.01, kernel=linear;, score=0.543 total time=   0.0s\n",
      "[CV 1/5] END .....C=0.1, gamma=0.01, kernel=rbf;, score=0.414 total time=   0.0s\n",
      "[CV 1/5] END .C=0.1, gamma=0.01, kernel=sigmoid;, score=0.414 total time=   0.0s\n",
      "[CV 2/5] END .C=0.1, gamma=0.01, kernel=sigmoid;, score=0.471 total time=   0.0s\n",
      "[CV 3/5] END .C=0.1, gamma=0.01, kernel=sigmoid;, score=0.557 total time=   0.0s\n",
      "[CV 4/5] END .C=0.1, gamma=0.01, kernel=sigmoid;, score=0.614 total time=   0.0s\n",
      "[CV 5/5] END .C=0.1, gamma=0.01, kernel=sigmoid;, score=0.600 total time=   0.0s\n",
      "[CV 1/5] END .......C=1, gamma=1, kernel=linear;, score=0.500 total time=   0.0s\n",
      "[CV 2/5] END .......C=1, gamma=1, kernel=linear;, score=0.500 total time=   0.0s\n",
      "[CV 3/5] END .......C=1, gamma=1, kernel=linear;, score=0.471 total time=   0.0s\n",
      "[CV 2/5] END ......C=1, gamma=1, kernel=sigmoid;, score=0.443 total time=   0.0s\n",
      "[CV 3/5] END ......C=1, gamma=1, kernel=sigmoid;, score=0.529 total time=   0.0s\n",
      "[CV 4/5] END ......C=1, gamma=1, kernel=sigmoid;, score=0.457 total time=   0.0s\n",
      "[CV 5/5] END ......C=1, gamma=1, kernel=sigmoid;, score=0.514 total time=   0.0s\n",
      "[CV 1/5] END .....C=1, gamma=0.1, kernel=linear;, score=0.500 total time=   0.0s\n",
      "[CV 2/5] END .....C=1, gamma=0.1, kernel=linear;, score=0.500 total time=   0.0s\n",
      "[CV 3/5] END .....C=1, gamma=0.1, kernel=linear;, score=0.471 total time=   0.0s\n",
      "[CV 4/5] END .....C=1, gamma=0.1, kernel=linear;, score=0.586 total time=   0.0s\n",
      "[CV 3/5] END ....C=1, gamma=0.1, kernel=sigmoid;, score=0.414 total time=   0.0s\n",
      "[CV 4/5] END ....C=1, gamma=0.1, kernel=sigmoid;, score=0.443 total time=   0.0s\n",
      "[CV 5/5] END ....C=1, gamma=0.1, kernel=sigmoid;, score=0.500 total time=   0.0s\n",
      "[CV 1/5] END ....C=1, gamma=0.01, kernel=linear;, score=0.500 total time=   0.0s\n",
      "[CV 2/5] END ....C=1, gamma=0.01, kernel=linear;, score=0.500 total time=   0.0s\n",
      "[CV 3/5] END ....C=1, gamma=0.01, kernel=linear;, score=0.471 total time=   0.0s\n",
      "[CV 4/5] END ....C=1, gamma=0.01, kernel=linear;, score=0.586 total time=   0.0s\n",
      "[CV 5/5] END ....C=1, gamma=0.01, kernel=linear;, score=0.557 total time=   0.0s\n",
      "[CV 1/5] END .......C=1, gamma=0.01, kernel=rbf;, score=0.414 total time=   0.0s\n",
      "[CV 2/5] END .......C=1, gamma=0.01, kernel=rbf;, score=0.471 total time=   0.0s\n",
      "[CV 3/5] END .......C=1, gamma=0.01, kernel=rbf;, score=0.486 total time=   0.0s\n",
      "[CV 4/5] END .......C=1, gamma=0.01, kernel=rbf;, score=0.571 total time=   0.0s\n",
      "[CV 5/5] END .......C=1, gamma=0.01, kernel=rbf;, score=0.571 total time=   0.0s\n",
      "[CV 1/5] END ...C=1, gamma=0.01, kernel=sigmoid;, score=0.414 total time=   0.0s\n",
      "[CV 2/5] END ...C=1, gamma=0.01, kernel=sigmoid;, score=0.471 total time=   0.0s\n",
      "[CV 3/5] END ...C=1, gamma=0.01, kernel=sigmoid;, score=0.514 total time=   0.0s\n",
      "[CV 5/5] END .....C=10, gamma=1, kernel=sigmoid;, score=0.557 total time=   0.0s\n",
      "[CV 1/5] END ....C=10, gamma=0.1, kernel=linear;, score=0.500 total time=   0.0s\n",
      "[CV 2/5] END ....C=10, gamma=0.1, kernel=linear;, score=0.500 total time=   0.0s\n",
      "[CV 3/5] END ....C=10, gamma=0.1, kernel=linear;, score=0.471 total time=   0.1s\n",
      "[CV 4/5] END ....C=10, gamma=0.1, kernel=linear;, score=0.586 total time=   0.0s\n",
      "[CV 5/5] END ....C=10, gamma=0.1, kernel=linear;, score=0.557 total time=   0.1s\n",
      "[CV 1/5] END .......C=10, gamma=0.1, kernel=rbf;, score=0.529 total time=   0.0s\n",
      "[CV 2/5] END .......C=10, gamma=0.1, kernel=rbf;, score=0.514 total time=   0.0s\n",
      "[CV 3/5] END .......C=10, gamma=0.1, kernel=rbf;, score=0.614 total time=   0.0s\n",
      "[CV 4/5] END .......C=10, gamma=0.1, kernel=rbf;, score=0.600 total time=   0.0s\n",
      "[CV 5/5] END .......C=10, gamma=0.1, kernel=rbf;, score=0.486 total time=   0.0s\n",
      "[CV 1/5] END ...C=10, gamma=0.1, kernel=sigmoid;, score=0.486 total time=   0.0s\n",
      "[CV 2/5] END ...C=10, gamma=0.1, kernel=sigmoid;, score=0.514 total time=   0.0s\n",
      "[CV 3/5] END ...C=10, gamma=0.1, kernel=sigmoid;, score=0.443 total time=   0.0s\n",
      "[CV 4/5] END ...C=10, gamma=0.1, kernel=sigmoid;, score=0.486 total time=   0.0s\n",
      "[CV 5/5] END ...C=10, gamma=0.1, kernel=sigmoid;, score=0.571 total time=   0.0s\n",
      "[CV 2/5] END C=0.1, degree=2, gamma=1, kernel=poly;, score=0.600 total time=   0.0s\n",
      "[CV 3/5] END C=0.1, degree=2, gamma=1, kernel=poly;, score=0.571 total time=   0.0s\n",
      "[CV 4/5] END C=0.1, degree=2, gamma=1, kernel=poly;, score=0.600 total time=   0.0s\n",
      "[CV 5/5] END C=0.1, degree=2, gamma=1, kernel=poly;, score=0.500 total time=   0.0s\n",
      "[CV 1/5] END C=0.1, degree=2, gamma=0.1, kernel=poly;, score=0.429 total time=   0.0s\n",
      "[CV 2/5] END C=0.1, degree=2, gamma=0.1, kernel=poly;, score=0.471 total time=   0.0s\n",
      "[CV 3/5] END C=0.1, degree=2, gamma=0.1, kernel=poly;, score=0.514 total time=   0.0s\n",
      "[CV 4/5] END C=0.1, degree=2, gamma=0.1, kernel=poly;, score=0.614 total time=   0.0s\n",
      "[CV 5/5] END C=0.1, degree=2, gamma=0.1, kernel=poly;, score=0.486 total time=   0.0s\n",
      "[CV 1/5] END C=0.1, degree=2, gamma=0.01, kernel=poly;, score=0.414 total time=   0.0s\n",
      "[CV 2/5] END C=0.1, degree=2, gamma=0.01, kernel=poly;, score=0.471 total time=   0.0s\n",
      "[CV 3/5] END C=0.1, degree=2, gamma=0.01, kernel=poly;, score=0.557 total time=   0.0s\n",
      "[CV 4/5] END C=0.1, degree=2, gamma=0.01, kernel=poly;, score=0.614 total time=   0.0s\n",
      "[CV 5/5] END C=0.1, degree=2, gamma=0.01, kernel=poly;, score=0.600 total time=   0.0s\n",
      "[CV 1/5] END C=0.1, degree=3, gamma=1, kernel=poly;, score=0.557 total time=   0.0s\n",
      "[CV 2/5] END C=0.1, degree=3, gamma=1, kernel=poly;, score=0.457 total time=   0.0s\n",
      "[CV 3/5] END C=0.1, degree=3, gamma=1, kernel=poly;, score=0.500 total time=   0.0s\n",
      "[CV 4/5] END C=0.1, degree=3, gamma=1, kernel=poly;, score=0.529 total time=   0.0s\n",
      "[CV 5/5] END C=0.1, degree=3, gamma=1, kernel=poly;, score=0.557 total time=   0.0s\n",
      "[CV 1/5] END C=0.1, degree=3, gamma=0.1, kernel=poly;, score=0.414 total time=   0.0s\n",
      "[CV 2/5] END C=0.1, degree=3, gamma=0.1, kernel=poly;, score=0.471 total time=   0.0s\n",
      "[CV 3/5] END C=0.1, degree=3, gamma=0.1, kernel=poly;, score=0.514 total time=   0.0s\n",
      "[CV 4/5] END C=0.1, degree=3, gamma=0.1, kernel=poly;, score=0.643 total time=   0.0s\n",
      "[CV 5/5] END C=0.1, degree=3, gamma=0.1, kernel=poly;, score=0.600 total time=   0.0s\n",
      "[CV 1/5] END C=0.1, degree=3, gamma=0.01, kernel=poly;, score=0.414 total time=   0.0s\n",
      "[CV 2/5] END C=0.1, degree=3, gamma=0.01, kernel=poly;, score=0.471 total time=   0.0s\n",
      "[CV 3/5] END C=0.1, degree=3, gamma=0.01, kernel=poly;, score=0.557 total time=   0.0s\n",
      "[CV 4/5] END C=0.1, degree=3, gamma=0.01, kernel=poly;, score=0.614 total time=   0.0s\n",
      "[CV 5/5] END C=0.1, degree=3, gamma=0.01, kernel=poly;, score=0.600 total time=   0.0s\n",
      "[CV 1/5] END C=0.1, degree=4, gamma=1, kernel=poly;, score=0.600 total time=   0.0s\n",
      "[CV 2/5] END C=0.1, degree=4, gamma=1, kernel=poly;, score=0.557 total time=   0.0s\n",
      "[CV 1/5] END .....C=0.1, gamma=1, kernel=linear;, score=0.471 total time=   0.0s\n",
      "[CV 3/5] END .....C=0.1, gamma=1, kernel=linear;, score=0.443 total time=   0.0s\n",
      "[CV 4/5] END .....C=0.1, gamma=1, kernel=linear;, score=0.557 total time=   0.0s\n",
      "[CV 1/5] END ........C=0.1, gamma=1, kernel=rbf;, score=0.414 total time=   0.0s\n",
      "[CV 4/5] END ........C=0.1, gamma=1, kernel=rbf;, score=0.614 total time=   0.0s\n",
      "[CV 5/5] END ........C=0.1, gamma=1, kernel=rbf;, score=0.600 total time=   0.0s\n",
      "[CV 2/5] END ....C=0.1, gamma=1, kernel=sigmoid;, score=0.457 total time=   0.0s\n",
      "[CV 4/5] END ....C=0.1, gamma=1, kernel=sigmoid;, score=0.443 total time=   0.0s\n",
      "[CV 2/5] END ...C=0.1, gamma=0.1, kernel=linear;, score=0.486 total time=   0.0s\n",
      "[CV 3/5] END ...C=0.1, gamma=0.1, kernel=linear;, score=0.443 total time=   0.0s\n",
      "[CV 1/5] END ......C=0.1, gamma=0.1, kernel=rbf;, score=0.414 total time=   0.0s\n",
      "[CV 2/5] END ......C=0.1, gamma=0.1, kernel=rbf;, score=0.471 total time=   0.0s\n",
      "[CV 5/5] END ......C=0.1, gamma=0.1, kernel=rbf;, score=0.600 total time=   0.0s\n",
      "[CV 1/5] END ..C=0.1, gamma=0.1, kernel=sigmoid;, score=0.414 total time=   0.0s\n",
      "[CV 2/5] END ..C=0.1, gamma=0.1, kernel=sigmoid;, score=0.471 total time=   0.0s\n",
      "[CV 3/5] END ..C=0.1, gamma=0.1, kernel=sigmoid;, score=0.543 total time=   0.0s\n",
      "[CV 2/5] END .....C=0.1, gamma=0.01, kernel=rbf;, score=0.471 total time=   0.0s\n",
      "[CV 3/5] END .....C=0.1, gamma=0.01, kernel=rbf;, score=0.557 total time=   0.0s\n",
      "[CV 4/5] END .....C=0.1, gamma=0.01, kernel=rbf;, score=0.614 total time=   0.0s\n",
      "[CV 5/5] END .....C=0.1, gamma=0.01, kernel=rbf;, score=0.600 total time=   0.0s\n",
      "[CV 4/5] END .......C=1, gamma=1, kernel=linear;, score=0.586 total time=   0.0s\n",
      "[CV 5/5] END .......C=1, gamma=1, kernel=linear;, score=0.557 total time=   0.0s\n",
      "[CV 1/5] END ..........C=1, gamma=1, kernel=rbf;, score=0.429 total time=   0.0s\n",
      "[CV 2/5] END ..........C=1, gamma=1, kernel=rbf;, score=0.457 total time=   0.0s\n",
      "[CV 3/5] END ..........C=1, gamma=1, kernel=rbf;, score=0.571 total time=   0.0s\n",
      "[CV 4/5] END ..........C=1, gamma=1, kernel=rbf;, score=0.629 total time=   0.0s\n",
      "[CV 5/5] END ..........C=1, gamma=1, kernel=rbf;, score=0.600 total time=   0.0s\n",
      "[CV 1/5] END ......C=1, gamma=1, kernel=sigmoid;, score=0.486 total time=   0.0s\n",
      "[CV 5/5] END .....C=1, gamma=0.1, kernel=linear;, score=0.557 total time=   0.0s\n",
      "[CV 1/5] END ........C=1, gamma=0.1, kernel=rbf;, score=0.543 total time=   0.0s\n",
      "[CV 2/5] END ........C=1, gamma=0.1, kernel=rbf;, score=0.529 total time=   0.0s\n",
      "[CV 3/5] END ........C=1, gamma=0.1, kernel=rbf;, score=0.600 total time=   0.0s\n",
      "[CV 4/5] END ........C=1, gamma=0.1, kernel=rbf;, score=0.629 total time=   0.0s\n",
      "[CV 5/5] END ........C=1, gamma=0.1, kernel=rbf;, score=0.600 total time=   0.0s\n",
      "[CV 1/5] END ....C=1, gamma=0.1, kernel=sigmoid;, score=0.486 total time=   0.0s\n",
      "[CV 2/5] END ....C=1, gamma=0.1, kernel=sigmoid;, score=0.457 total time=   0.0s\n",
      "[CV 4/5] END ...C=1, gamma=0.01, kernel=sigmoid;, score=0.557 total time=   0.0s\n",
      "[CV 5/5] END ...C=1, gamma=0.01, kernel=sigmoid;, score=0.571 total time=   0.0s\n",
      "[CV 1/5] END ......C=10, gamma=1, kernel=linear;, score=0.500 total time=   0.0s\n",
      "[CV 2/5] END ......C=10, gamma=1, kernel=linear;, score=0.500 total time=   0.0s\n",
      "[CV 3/5] END ......C=10, gamma=1, kernel=linear;, score=0.471 total time=   0.1s\n",
      "[CV 4/5] END ......C=10, gamma=1, kernel=linear;, score=0.586 total time=   0.0s\n",
      "[CV 5/5] END ......C=10, gamma=1, kernel=linear;, score=0.557 total time=   0.1s\n",
      "[CV 1/5] END .........C=10, gamma=1, kernel=rbf;, score=0.429 total time=   0.0s\n",
      "[CV 2/5] END .........C=10, gamma=1, kernel=rbf;, score=0.471 total time=   0.0s\n",
      "[CV 3/5] END .........C=10, gamma=1, kernel=rbf;, score=0.557 total time=   0.0s\n",
      "[CV 4/5] END .........C=10, gamma=1, kernel=rbf;, score=0.643 total time=   0.0s\n",
      "[CV 5/5] END .........C=10, gamma=1, kernel=rbf;, score=0.600 total time=   0.0s\n",
      "[CV 1/5] END .....C=10, gamma=1, kernel=sigmoid;, score=0.486 total time=   0.0s\n",
      "[CV 2/5] END .....C=10, gamma=1, kernel=sigmoid;, score=0.500 total time=   0.0s\n",
      "[CV 3/5] END .....C=10, gamma=1, kernel=sigmoid;, score=0.514 total time=   0.0s\n",
      "[CV 4/5] END .....C=10, gamma=1, kernel=sigmoid;, score=0.443 total time=   0.0s\n",
      "[CV 1/5] END ...C=10, gamma=0.01, kernel=linear;, score=0.500 total time=   0.0s\n",
      "[CV 2/5] END ...C=10, gamma=0.01, kernel=linear;, score=0.500 total time=   0.0s\n",
      "[CV 3/5] END ...C=10, gamma=0.01, kernel=linear;, score=0.471 total time=   0.1s\n",
      "[CV 4/5] END ...C=10, gamma=0.01, kernel=linear;, score=0.586 total time=   0.0s\n",
      "[CV 5/5] END ...C=10, gamma=0.01, kernel=linear;, score=0.557 total time=   0.1s\n",
      "[CV 1/5] END ......C=10, gamma=0.01, kernel=rbf;, score=0.486 total time=   0.0s\n",
      "[CV 2/5] END ......C=10, gamma=0.01, kernel=rbf;, score=0.571 total time=   0.0s\n",
      "[CV 3/5] END ......C=10, gamma=0.01, kernel=rbf;, score=0.571 total time=   0.0s\n",
      "[CV 4/5] END ......C=10, gamma=0.01, kernel=rbf;, score=0.586 total time=   0.0s\n",
      "[CV 5/5] END ......C=10, gamma=0.01, kernel=rbf;, score=0.514 total time=   0.0s\n",
      "[CV 1/5] END ..C=10, gamma=0.01, kernel=sigmoid;, score=0.471 total time=   0.0s\n",
      "[CV 2/5] END ..C=10, gamma=0.01, kernel=sigmoid;, score=0.486 total time=   0.0s\n",
      "[CV 3/5] END ..C=10, gamma=0.01, kernel=sigmoid;, score=0.457 total time=   0.0s\n",
      "[CV 4/5] END ..C=10, gamma=0.01, kernel=sigmoid;, score=0.557 total time=   0.0s\n",
      "[CV 5/5] END ..C=10, gamma=0.01, kernel=sigmoid;, score=0.543 total time=   0.0s\n",
      "[CV 1/5] END C=0.1, degree=2, gamma=1, kernel=poly;, score=0.529 total time=   0.0s\n",
      "[CV 4/5] END C=0.1, degree=4, gamma=1, kernel=poly;, score=0.529 total time=   0.0s\n",
      "[CV 5/5] END C=0.1, degree=4, gamma=1, kernel=poly;, score=0.457 total time=   0.0s\n",
      "[CV 1/5] END C=0.1, degree=4, gamma=0.1, kernel=poly;, score=0.414 total time=   0.0s\n",
      "[CV 2/5] END C=0.1, degree=4, gamma=0.1, kernel=poly;, score=0.500 total time=   0.0s\n",
      "[CV 3/5] END C=0.1, degree=4, gamma=0.1, kernel=poly;, score=0.529 total time=   0.0s\n",
      "[CV 4/5] END C=0.1, degree=4, gamma=0.1, kernel=poly;, score=0.657 total time=   0.0s\n",
      "[CV 5/5] END C=0.1, degree=4, gamma=0.1, kernel=poly;, score=0.529 total time=   0.0s\n",
      "[CV 1/5] END C=0.1, degree=4, gamma=0.01, kernel=poly;, score=0.414 total time=   0.0s\n",
      "[CV 2/5] END C=0.1, degree=4, gamma=0.01, kernel=poly;, score=0.471 total time=   0.0s\n",
      "[CV 3/5] END C=0.1, degree=4, gamma=0.01, kernel=poly;, score=0.557 total time=   0.0s\n",
      "[CV 4/5] END C=0.1, degree=4, gamma=0.01, kernel=poly;, score=0.614 total time=   0.0s\n",
      "[CV 5/5] END C=0.1, degree=4, gamma=0.01, kernel=poly;, score=0.600 total time=   0.0s\n",
      "[CV 1/5] END C=1, degree=2, gamma=1, kernel=poly;, score=0.614 total time=   0.2s\n",
      "[CV 2/5] END C=1, degree=2, gamma=1, kernel=poly;, score=0.671 total time=   0.2s\n",
      "[CV 3/5] END C=1, degree=2, gamma=1, kernel=poly;, score=0.614 total time=   0.3s\n",
      "[CV 4/5] END C=1, degree=2, gamma=1, kernel=poly;, score=0.614 total time=   0.1s\n",
      "[CV 3/5] END C=10, degree=2, gamma=0.1, kernel=poly;, score=0.571 total time=   0.0s\n",
      "[CV 4/5] END C=10, degree=2, gamma=0.1, kernel=poly;, score=0.600 total time=   0.0s\n",
      "[CV 5/5] END C=10, degree=2, gamma=0.1, kernel=poly;, score=0.500 total time=   0.0s\n",
      "[CV 1/5] END C=10, degree=2, gamma=0.01, kernel=poly;, score=0.429 total time=   0.0s\n",
      "[CV 2/5] END C=10, degree=2, gamma=0.01, kernel=poly;, score=0.471 total time=   0.0s\n",
      "[CV 3/5] END C=10, degree=2, gamma=0.01, kernel=poly;, score=0.514 total time=   0.0s\n",
      "[CV 4/5] END C=10, degree=2, gamma=0.01, kernel=poly;, score=0.614 total time=   0.0s\n",
      "[CV 5/5] END C=10, degree=2, gamma=0.01, kernel=poly;, score=0.486 total time=   0.0s\n",
      "[CV 1/5] END C=10, degree=3, gamma=1, kernel=poly;, score=0.557 total time=   0.0s\n",
      "[CV 2/5] END C=10, degree=3, gamma=1, kernel=poly;, score=0.457 total time=   0.0s\n",
      "[CV 3/5] END C=10, degree=3, gamma=1, kernel=poly;, score=0.500 total time=   0.0s\n",
      "[CV 4/5] END C=10, degree=3, gamma=1, kernel=poly;, score=0.529 total time=   0.0s\n",
      "[CV 5/5] END C=10, degree=3, gamma=1, kernel=poly;, score=0.557 total time=   0.0s\n",
      "[CV 1/5] END C=10, degree=3, gamma=0.1, kernel=poly;, score=0.514 total time=   0.0s\n",
      "[CV 2/5] END C=10, degree=3, gamma=0.1, kernel=poly;, score=0.486 total time=   0.0s\n"
     ]
    },
    {
     "data": {
      "text/plain": [
       "GridSearchCV(cv=KFold(n_splits=5, random_state=None, shuffle=True),\n",
       "             estimator=SVC(), n_jobs=-1,\n",
       "             param_grid=[{'C': [0.1, 1, 10], 'gamma': [1, 0.1, 0.01],\n",
       "                          'kernel': ['linear', 'rbf', 'sigmoid']},\n",
       "                         {'C': [0.1, 1, 10], 'degree': [2, 3, 4],\n",
       "                          'gamma': [1, 0.1, 0.01], 'kernel': ['poly']}],\n",
       "             verbose=4)"
      ]
     },
     "execution_count": 43,
     "metadata": {},
     "output_type": "execute_result"
    }
   ],
   "source": [
    "grid = GridSearchCV(SVC(), parameters, cv=kf, verbose=4, n_jobs=-1)\n",
    "grid.fit(X_train, y_train)"
   ]
  },
  {
   "cell_type": "markdown",
   "metadata": {
    "id": "8QZXLgeKXYvF"
   },
   "source": [
    "Show best accuracy result found from hyper parameter tuning runs"
   ]
  },
  {
   "cell_type": "code",
   "execution_count": 44,
   "metadata": {
    "colab": {
     "base_uri": "https://localhost:8080/"
    },
    "id": "eb6hvOvqRc3c",
    "outputId": "5efbd117-13ac-4e9b-8086-724c3479da5f"
   },
   "outputs": [
    {
     "data": {
      "text/plain": [
       "0.5971428571428572"
      ]
     },
     "execution_count": 44,
     "metadata": {},
     "output_type": "execute_result"
    }
   ],
   "source": [
    "grid.best_score_"
   ]
  },
  {
   "cell_type": "markdown",
   "metadata": {
    "id": "zISFp5klXdeB"
   },
   "source": [
    "Show the parameters that resulted to the best accuracy found"
   ]
  },
  {
   "cell_type": "code",
   "execution_count": 45,
   "metadata": {
    "colab": {
     "base_uri": "https://localhost:8080/"
    },
    "id": "sTXpmI9URfLr",
    "outputId": "049371ae-e866-4bbb-942f-850486eadeb1"
   },
   "outputs": [
    {
     "data": {
      "text/plain": [
       "{'C': 10, 'degree': 2, 'gamma': 1, 'kernel': 'poly'}"
      ]
     },
     "execution_count": 45,
     "metadata": {},
     "output_type": "execute_result"
    }
   ],
   "source": [
    "grid.best_params_"
   ]
  },
  {
   "cell_type": "markdown",
   "metadata": {
    "id": "9c86sYOdUCK2"
   },
   "source": [
    "### Accuracy Result"
   ]
  },
  {
   "cell_type": "markdown",
   "metadata": {
    "id": "mIuqSgL7YbMf"
   },
   "source": [
    "Prepare Support Vector Machine with the \"best\" parameters found."
   ]
  },
  {
   "cell_type": "code",
   "execution_count": 46,
   "metadata": {
    "id": "1gBKv5DbKCse"
   },
   "outputs": [],
   "source": [
    "cv_svc = SVC(C=1, gamma=0.1, kernel='poly', degree=2)"
   ]
  },
  {
   "cell_type": "markdown",
   "metadata": {
    "id": "b76Q-jUMYTdt"
   },
   "source": [
    "Run cross validation across whole dataset to determine average accuracy"
   ]
  },
  {
   "cell_type": "code",
   "execution_count": 47,
   "metadata": {
    "id": "zxePkfbCM7ND"
   },
   "outputs": [],
   "source": [
    "cross_val_result = cross_val_score(cv_svc , X, y, cv = kf)"
   ]
  },
  {
   "cell_type": "markdown",
   "metadata": {
    "id": "LLzAKtESYi06"
   },
   "source": [
    "Show average accuracy found"
   ]
  },
  {
   "cell_type": "code",
   "execution_count": 48,
   "metadata": {
    "colab": {
     "base_uri": "https://localhost:8080/"
    },
    "id": "w96tXCIeNlMa",
    "outputId": "fa951e81-fe33-4c6f-9da2-99d79f2878e5"
   },
   "outputs": [
    {
     "data": {
      "text/plain": [
       "0.562"
      ]
     },
     "execution_count": 48,
     "metadata": {},
     "output_type": "execute_result"
    }
   ],
   "source": [
    "cross_val_result.mean()"
   ]
  },
  {
   "cell_type": "markdown",
   "metadata": {
    "id": "qGkUEyW7TK9u"
   },
   "source": [
    "# Summary and Insights"
   ]
  },
  {
   "cell_type": "markdown",
   "metadata": {
    "id": "VVntuaqVVRVX"
   },
   "source": [
    "Support Vector Machines (SVM) can be used to perform classification functions."
   ]
  },
  {
   "cell_type": "markdown",
   "metadata": {
    "id": "TCDujb07Yuwh"
   },
   "source": [
    "SVM supports different kernels for determining gaps between classes."
   ]
  },
  {
   "cell_type": "markdown",
   "metadata": {
    "id": "2fZp6GqfTh64"
   },
   "source": [
    "Cross validation provides more confidence in the resulting metrics of an algorithm by running the algorithm multiple times using different training and testing sets, the results of which are saved and aggregated."
   ]
  },
  {
   "cell_type": "markdown",
   "metadata": {
    "id": "9T1hefxzTPts"
   },
   "source": [
    "SVM is NOT a good classification algorithm to use on this dataset, providing only approximately 55% accuracy. This may be because the data is synthetic or due to relatively small dataset."
   ]
  }
 ],
 "metadata": {
  "colab": {
   "collapsed_sections": [],
   "name": "AIDI1002_Exercise3n4_Lab4.ipynb",
   "provenance": [],
   "toc_visible": true
  },
  "kernelspec": {
   "display_name": "Python 3 (ipykernel)",
   "language": "python",
   "name": "python3"
  },
  "language_info": {
   "codemirror_mode": {
    "name": "ipython",
    "version": 3
   },
   "file_extension": ".py",
   "mimetype": "text/x-python",
   "name": "python",
   "nbconvert_exporter": "python",
   "pygments_lexer": "ipython3",
   "version": "3.9.7"
  }
 },
 "nbformat": 4,
 "nbformat_minor": 4
}
